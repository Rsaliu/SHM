{
 "cells": [
  {
   "cell_type": "markdown",
   "metadata": {},
   "source": [
    "## OVERVIEW\n",
    "---\n",
    "* Image Preprocessing with OpenCV\n",
    "    * Masking\n",
    "    * Segmentation\n",
    "    * Image Sharpening\n",
    "* Transfer Learning with Keras Pretrained Model\n",
    "* Feature Extraction\n",
    "* Deep Learning Model to Classify the Images"
   ]
  },
  {
   "cell_type": "code",
   "execution_count": 4,
   "metadata": {
    "_cell_guid": "b1076dfc-b9ad-4769-8c92-a6c4dae69d19",
    "_uuid": "8f2839f25d086af736a60e9eeb907d3b93b6e0e5"
   },
   "outputs": [],
   "source": [
    "import datetime as dt\n",
    "import numpy as np\n",
    "import pandas as pd\n",
    "\n",
    "import matplotlib.pyplot as plt\n",
    "import seaborn as sns\n",
    "plt.style.use('fivethirtyeight')\n",
    "sns.set_style('whitegrid')\n",
    "\n",
    "\n",
    "import os\n",
    "import keras\n",
    "from keras.applications import xception\n",
    "from keras.preprocessing import image\n",
    "from mpl_toolkits.axes_grid1 import ImageGrid\n",
    "from sklearn.linear_model import LogisticRegression\n",
    "from sklearn.metrics import accuracy_score, confusion_matrix\n",
    "from sklearn.model_selection import train_test_split, RandomizedSearchCV\n",
    "from sklearn.metrics import accuracy_score, confusion_matrix, classification_report\n",
    "\n",
    "import cv2\n",
    "from scipy.stats import uniform\n",
    "from PIL import Image\n",
    "\n",
    "from tqdm import tqdm\n",
    "from glob import glob\n",
    "import random\n",
    "\n",
    "\n",
    "from keras.models import Model, Sequential\n",
    "from keras import models\n",
    "from keras.layers import LSTM, Activation, Dense, Dropout, Input, Embedding, Masking,Flatten\n",
    "from keras.utils import np_utils\n",
    "from tensorflow.keras.utils import to_categorical\n",
    "\n",
    "\n",
    "\n",
    "from IPython.core.interactiveshell import InteractiveShell\n",
    "InteractiveShell.ast_node_interactivity = \"all\"\n",
    "from keras.preprocessing.image import *\n",
    "from skimage import io\n",
    "\n",
    "from sklearn.preprocessing import OneHotEncoder\n",
    "\n",
    "from datetime import datetime\n"
   ]
  },
  {
   "cell_type": "code",
   "execution_count": 5,
   "metadata": {},
   "outputs": [],
   "source": [
    "base_folder = '../input'\n",
    "train_folder= '../input/train'\n",
    "train_crack_folder = '../input/train/crack'\n",
    "train_efflorescence_folder = '../input/train/efflorescence'\n",
    "train_intact_folder = '../input/train/intact'\n",
    "train_spalling_folder = '../input/train/spalling'\n",
    "\n",
    "val_crack_folder = '../input/val/crack'\n",
    "val_efflorescence_folder = '../input/val/efflorescence'\n",
    "val_intact_folder = '../input/val/intact'\n",
    "val_spalling_folder = '../input/val/spalling'\n",
    "\n",
    "categories = ['crack', 'efflorescence', 'intact','spalling']\n",
    "len_categories = len(categories)"
   ]
  },
  {
   "cell_type": "code",
   "execution_count": 6,
   "metadata": {},
   "outputs": [],
   "source": [
    "def plot_image_data(image_data):\n",
    "    plt_val=[]\n",
    "    plt_key=[]\n",
    "    for key, value in image_data.items():\n",
    "        print('{0} -> {1}'.format(key, len(value)))\n",
    "        plt_val.append(len(value))\n",
    "        plt_key.append(key)\n",
    "    fig = plt.figure(figsize = (10, 5))\n",
    "    # creating the bar plot\n",
    "    colors= list('rgbkymc')\n",
    "    plt.bar(plt_key, plt_val, color =colors,\n",
    "            width = 0.4)\n",
    "    plt.ylabel(\"Number of Images\")\n",
    "    plt.xlabel(\"Image Class\")\n",
    "    plt.title(\"Number of Images per class\")\n",
    "    for index, value in enumerate(plt_val):\n",
    "        plt.text(index, value,\n",
    "                 str(value), fontweight = 'bold')\n",
    "    plt.show()"
   ]
  },
  {
   "cell_type": "code",
   "execution_count": 7,
   "metadata": {},
   "outputs": [],
   "source": [
    "### READ IMAGE DATA"
   ]
  },
  {
   "cell_type": "code",
   "execution_count": 8,
   "metadata": {},
   "outputs": [
    {
     "name": "stderr",
     "output_type": "stream",
     "text": [
      "4it [00:00, 14.57it/s]\n"
     ]
    }
   ],
   "source": [
    "image_count = {}\n",
    "train_data = []\n",
    "for i , category in tqdm(enumerate(categories)):\n",
    "    class_folder = os.path.join(train_folder, category)\n",
    "    label = category\n",
    "    image_count[category] = []\n",
    "    \n",
    "    for path in os.listdir(os.path.join(class_folder)):\n",
    "        image_count[category].append(category)\n",
    "        train_data.append(['{}/{}'.format(category, path), i, category])"
   ]
  },
  {
   "cell_type": "code",
   "execution_count": 9,
   "metadata": {},
   "outputs": [
    {
     "name": "stdout",
     "output_type": "stream",
     "text": [
      "crack -> 5192\n",
      "efflorescence -> 5300\n",
      "intact -> 5300\n",
      "spalling -> 5300\n"
     ]
    },
    {
     "data": {
      "image/png": "[encoded data removed]",
      "text/plain": [
       "<Figure size 720x360 with 1 Axes>"
      ]
     },
     "metadata": {
      "needs_background": "light"
     },
     "output_type": "display_data"
    }
   ],
   "source": [
    "plot_image_data(image_count)"
   ]
  },
  {
   "cell_type": "code",
   "execution_count": 10,
   "metadata": {},
   "outputs": [
    {
     "data": {
      "text/plain": [
       "(21092, 3)"
      ]
     },
     "execution_count": 10,
     "metadata": {},
     "output_type": "execute_result"
    },
    {
     "data": {
      "text/html": [
       "<div>\n",
       "<style scoped>\n",
       "    .dataframe tbody tr th:only-of-type {\n",
       "        vertical-align: middle;\n",
       "    }\n",
       "\n",
       "    .dataframe tbody tr th {\n",
       "        vertical-align: top;\n",
       "    }\n",
       "\n",
       "    .dataframe thead th {\n",
       "        text-align: right;\n",
       "    }\n",
       "</style>\n",
       "<table border=\"1\" class=\"dataframe\">\n",
       "  <thead>\n",
       "    <tr style=\"text-align: right;\">\n",
       "      <th></th>\n",
       "      <th>file</th>\n",
       "      <th>id</th>\n",
       "      <th>label</th>\n",
       "    </tr>\n",
       "  </thead>\n",
       "  <tbody>\n",
       "    <tr>\n",
       "      <th>0</th>\n",
       "      <td>crack/000007.jpg</td>\n",
       "      <td>0</td>\n",
       "      <td>crack</td>\n",
       "    </tr>\n",
       "    <tr>\n",
       "      <th>1</th>\n",
       "      <td>crack/000056.jpg</td>\n",
       "      <td>0</td>\n",
       "      <td>crack</td>\n",
       "    </tr>\n",
       "    <tr>\n",
       "      <th>2</th>\n",
       "      <td>crack/000113.jpg</td>\n",
       "      <td>0</td>\n",
       "      <td>crack</td>\n",
       "    </tr>\n",
       "    <tr>\n",
       "      <th>3</th>\n",
       "      <td>crack/01.jpg</td>\n",
       "      <td>0</td>\n",
       "      <td>crack</td>\n",
       "    </tr>\n",
       "    <tr>\n",
       "      <th>4</th>\n",
       "      <td>crack/010.jpg</td>\n",
       "      <td>0</td>\n",
       "      <td>crack</td>\n",
       "    </tr>\n",
       "  </tbody>\n",
       "</table>\n",
       "</div>"
      ],
      "text/plain": [
       "               file  id  label\n",
       "0  crack/000007.jpg   0  crack\n",
       "1  crack/000056.jpg   0  crack\n",
       "2  crack/000113.jpg   0  crack\n",
       "3      crack/01.jpg   0  crack\n",
       "4     crack/010.jpg   0  crack"
      ]
     },
     "execution_count": 10,
     "metadata": {},
     "output_type": "execute_result"
    },
    {
     "data": {
      "text/html": [
       "<div>\n",
       "<style scoped>\n",
       "    .dataframe tbody tr th:only-of-type {\n",
       "        vertical-align: middle;\n",
       "    }\n",
       "\n",
       "    .dataframe tbody tr th {\n",
       "        vertical-align: top;\n",
       "    }\n",
       "\n",
       "    .dataframe thead th {\n",
       "        text-align: right;\n",
       "    }\n",
       "</style>\n",
       "<table border=\"1\" class=\"dataframe\">\n",
       "  <thead>\n",
       "    <tr style=\"text-align: right;\">\n",
       "      <th></th>\n",
       "      <th>file</th>\n",
       "      <th>id</th>\n",
       "      <th>label</th>\n",
       "    </tr>\n",
       "  </thead>\n",
       "  <tbody>\n",
       "    <tr>\n",
       "      <th>21087</th>\n",
       "      <td>spalling/995.jpg</td>\n",
       "      <td>3</td>\n",
       "      <td>spalling</td>\n",
       "    </tr>\n",
       "    <tr>\n",
       "      <th>21088</th>\n",
       "      <td>spalling/996.jpg</td>\n",
       "      <td>3</td>\n",
       "      <td>spalling</td>\n",
       "    </tr>\n",
       "    <tr>\n",
       "      <th>21089</th>\n",
       "      <td>spalling/997.jpg</td>\n",
       "      <td>3</td>\n",
       "      <td>spalling</td>\n",
       "    </tr>\n",
       "    <tr>\n",
       "      <th>21090</th>\n",
       "      <td>spalling/998.jpg</td>\n",
       "      <td>3</td>\n",
       "      <td>spalling</td>\n",
       "    </tr>\n",
       "    <tr>\n",
       "      <th>21091</th>\n",
       "      <td>spalling/999.jpg</td>\n",
       "      <td>3</td>\n",
       "      <td>spalling</td>\n",
       "    </tr>\n",
       "  </tbody>\n",
       "</table>\n",
       "</div>"
      ],
      "text/plain": [
       "                   file  id     label\n",
       "21087  spalling/995.jpg   3  spalling\n",
       "21088  spalling/996.jpg   3  spalling\n",
       "21089  spalling/997.jpg   3  spalling\n",
       "21090  spalling/998.jpg   3  spalling\n",
       "21091  spalling/999.jpg   3  spalling"
      ]
     },
     "execution_count": 10,
     "metadata": {},
     "output_type": "execute_result"
    }
   ],
   "source": [
    "#create a dataframe\n",
    "df = pd.DataFrame(train_data, columns=['file', 'id', 'label'])\n",
    "df.shape\n",
    "df.head()\n",
    "df.tail()"
   ]
  },
  {
   "cell_type": "markdown",
   "metadata": {},
   "source": [
    "### ONE HOT ENCODING"
   ]
  },
  {
   "cell_type": "code",
   "execution_count": 11,
   "metadata": {},
   "outputs": [],
   "source": [
    "#creating instance of one-hot-encoder\n",
    "encoder = OneHotEncoder(handle_unknown='ignore')\n",
    "\n",
    "#perform one-hot encoding on 'id' column \n",
    "encoder_df = pd.DataFrame(encoder.fit_transform(df[['id']]).toarray())\n",
    "\n",
    "#merge one-hot encoded columns back with original DataFrame\n",
    "df = df.join(encoder_df)\n",
    "\n",
    "df.drop('id', axis=1, inplace=True)\n",
    "\n",
    "df.columns = ['file', 'label', 'crack', 'efflorescence', 'intact','spalling']"
   ]
  },
  {
   "cell_type": "code",
   "execution_count": 12,
   "metadata": {
    "scrolled": true
   },
   "outputs": [
    {
     "data": {
      "text/html": [
       "<div>\n",
       "<style scoped>\n",
       "    .dataframe tbody tr th:only-of-type {\n",
       "        vertical-align: middle;\n",
       "    }\n",
       "\n",
       "    .dataframe tbody tr th {\n",
       "        vertical-align: top;\n",
       "    }\n",
       "\n",
       "    .dataframe thead th {\n",
       "        text-align: right;\n",
       "    }\n",
       "</style>\n",
       "<table border=\"1\" class=\"dataframe\">\n",
       "  <thead>\n",
       "    <tr style=\"text-align: right;\">\n",
       "      <th></th>\n",
       "      <th>file</th>\n",
       "      <th>label</th>\n",
       "      <th>crack</th>\n",
       "      <th>efflorescence</th>\n",
       "      <th>intact</th>\n",
       "      <th>spalling</th>\n",
       "    </tr>\n",
       "  </thead>\n",
       "  <tbody>\n",
       "    <tr>\n",
       "      <th>0</th>\n",
       "      <td>crack/000007.jpg</td>\n",
       "      <td>crack</td>\n",
       "      <td>1.0</td>\n",
       "      <td>0.0</td>\n",
       "      <td>0.0</td>\n",
       "      <td>0.0</td>\n",
       "    </tr>\n",
       "    <tr>\n",
       "      <th>1</th>\n",
       "      <td>crack/000056.jpg</td>\n",
       "      <td>crack</td>\n",
       "      <td>1.0</td>\n",
       "      <td>0.0</td>\n",
       "      <td>0.0</td>\n",
       "      <td>0.0</td>\n",
       "    </tr>\n",
       "    <tr>\n",
       "      <th>2</th>\n",
       "      <td>crack/000113.jpg</td>\n",
       "      <td>crack</td>\n",
       "      <td>1.0</td>\n",
       "      <td>0.0</td>\n",
       "      <td>0.0</td>\n",
       "      <td>0.0</td>\n",
       "    </tr>\n",
       "    <tr>\n",
       "      <th>3</th>\n",
       "      <td>crack/01.jpg</td>\n",
       "      <td>crack</td>\n",
       "      <td>1.0</td>\n",
       "      <td>0.0</td>\n",
       "      <td>0.0</td>\n",
       "      <td>0.0</td>\n",
       "    </tr>\n",
       "    <tr>\n",
       "      <th>4</th>\n",
       "      <td>crack/010.jpg</td>\n",
       "      <td>crack</td>\n",
       "      <td>1.0</td>\n",
       "      <td>0.0</td>\n",
       "      <td>0.0</td>\n",
       "      <td>0.0</td>\n",
       "    </tr>\n",
       "  </tbody>\n",
       "</table>\n",
       "</div>"
      ],
      "text/plain": [
       "               file  label  crack  efflorescence  intact  spalling\n",
       "0  crack/000007.jpg  crack    1.0            0.0     0.0       0.0\n",
       "1  crack/000056.jpg  crack    1.0            0.0     0.0       0.0\n",
       "2  crack/000113.jpg  crack    1.0            0.0     0.0       0.0\n",
       "3      crack/01.jpg  crack    1.0            0.0     0.0       0.0\n",
       "4     crack/010.jpg  crack    1.0            0.0     0.0       0.0"
      ]
     },
     "execution_count": 12,
     "metadata": {},
     "output_type": "execute_result"
    },
    {
     "data": {
      "text/html": [
       "<div>\n",
       "<style scoped>\n",
       "    .dataframe tbody tr th:only-of-type {\n",
       "        vertical-align: middle;\n",
       "    }\n",
       "\n",
       "    .dataframe tbody tr th {\n",
       "        vertical-align: top;\n",
       "    }\n",
       "\n",
       "    .dataframe thead th {\n",
       "        text-align: right;\n",
       "    }\n",
       "</style>\n",
       "<table border=\"1\" class=\"dataframe\">\n",
       "  <thead>\n",
       "    <tr style=\"text-align: right;\">\n",
       "      <th></th>\n",
       "      <th>file</th>\n",
       "      <th>label</th>\n",
       "      <th>crack</th>\n",
       "      <th>efflorescence</th>\n",
       "      <th>intact</th>\n",
       "      <th>spalling</th>\n",
       "    </tr>\n",
       "  </thead>\n",
       "  <tbody>\n",
       "    <tr>\n",
       "      <th>21087</th>\n",
       "      <td>spalling/995.jpg</td>\n",
       "      <td>spalling</td>\n",
       "      <td>0.0</td>\n",
       "      <td>0.0</td>\n",
       "      <td>0.0</td>\n",
       "      <td>1.0</td>\n",
       "    </tr>\n",
       "    <tr>\n",
       "      <th>21088</th>\n",
       "      <td>spalling/996.jpg</td>\n",
       "      <td>spalling</td>\n",
       "      <td>0.0</td>\n",
       "      <td>0.0</td>\n",
       "      <td>0.0</td>\n",
       "      <td>1.0</td>\n",
       "    </tr>\n",
       "    <tr>\n",
       "      <th>21089</th>\n",
       "      <td>spalling/997.jpg</td>\n",
       "      <td>spalling</td>\n",
       "      <td>0.0</td>\n",
       "      <td>0.0</td>\n",
       "      <td>0.0</td>\n",
       "      <td>1.0</td>\n",
       "    </tr>\n",
       "    <tr>\n",
       "      <th>21090</th>\n",
       "      <td>spalling/998.jpg</td>\n",
       "      <td>spalling</td>\n",
       "      <td>0.0</td>\n",
       "      <td>0.0</td>\n",
       "      <td>0.0</td>\n",
       "      <td>1.0</td>\n",
       "    </tr>\n",
       "    <tr>\n",
       "      <th>21091</th>\n",
       "      <td>spalling/999.jpg</td>\n",
       "      <td>spalling</td>\n",
       "      <td>0.0</td>\n",
       "      <td>0.0</td>\n",
       "      <td>0.0</td>\n",
       "      <td>1.0</td>\n",
       "    </tr>\n",
       "  </tbody>\n",
       "</table>\n",
       "</div>"
      ],
      "text/plain": [
       "                   file     label  crack  efflorescence  intact  spalling\n",
       "21087  spalling/995.jpg  spalling    0.0            0.0     0.0       1.0\n",
       "21088  spalling/996.jpg  spalling    0.0            0.0     0.0       1.0\n",
       "21089  spalling/997.jpg  spalling    0.0            0.0     0.0       1.0\n",
       "21090  spalling/998.jpg  spalling    0.0            0.0     0.0       1.0\n",
       "21091  spalling/999.jpg  spalling    0.0            0.0     0.0       1.0"
      ]
     },
     "execution_count": 12,
     "metadata": {},
     "output_type": "execute_result"
    }
   ],
   "source": [
    "df.head()\n",
    "df.tail()"
   ]
  },
  {
   "cell_type": "markdown",
   "metadata": {},
   "source": [
    "### IMAGE PREPROCESSING"
   ]
  },
  {
   "cell_type": "code",
   "execution_count": 13,
   "metadata": {},
   "outputs": [],
   "source": [
    "# function to get an image\n",
    "def read_img(filepath, size,folder):\n",
    "    path =os.path.join(folder, filepath);\n",
    "    #print(f\"filepath passed is: {filepath} and full path is: {path}\")\n",
    "    img = image.load_img(path, target_size=size)\n",
    "    #convert image to array\n",
    "    img = image.img_to_array(img)\n",
    "    return img"
   ]
  },
  {
   "cell_type": "markdown",
   "metadata": {},
   "source": [
    "### SHOW SAMPLE IMAGES"
   ]
  },
  {
   "cell_type": "code",
   "execution_count": 14,
   "metadata": {
    "_kg_hide-output": false,
    "scrolled": true
   },
   "outputs": [
    {
     "data": {
      "image/png": "[encoded data removed]",
      "text/plain": [
       "<Figure size 720x360 with 15 Axes>"
      ]
     },
     "metadata": {
      "needs_background": "light"
     },
     "output_type": "display_data"
    }
   ],
   "source": [
    "nb_rows = 3\n",
    "nb_cols = 5\n",
    "fig, axs = plt.subplots(nb_rows, nb_cols, figsize=(10, 5));\n",
    "plt.suptitle('SAMPLE IMAGES');\n",
    "for i in range(0, nb_rows):\n",
    "    for j in range(0, nb_cols):\n",
    "        axs[i, j].xaxis.set_ticklabels([]);\n",
    "        axs[i, j].yaxis.set_ticklabels([]);\n",
    "        axs[i, j].imshow((read_img(df['file'][np.random.randint(1000)], (255,255),train_folder))/255.);\n",
    "plt.show();"
   ]
  },
  {
   "cell_type": "markdown",
   "metadata": {},
   "source": [
    "### SHOW SAMPLE PROCESSED IMAGE\n"
   ]
  },
  {
   "cell_type": "markdown",
   "metadata": {},
   "source": [
    "### XCEPTION BOTTLENECK FEATURE EXTRACTION"
   ]
  },
  {
   "cell_type": "code",
   "execution_count": 15,
   "metadata": {},
   "outputs": [
    {
     "name": "stderr",
     "output_type": "stream",
     "text": [
      "21092it [02:39, 132.55it/s]\n"
     ]
    }
   ],
   "source": [
    "INPUT_SIZE=255\n",
    "\n",
    "##preprocess the input\n",
    "X_train = np.zeros((len(df), INPUT_SIZE, INPUT_SIZE, 3), dtype='float')\n",
    "for i, file in tqdm(enumerate(df['file'])):\n",
    "    #read image\n",
    "    img = read_img(file,(INPUT_SIZE,INPUT_SIZE),train_folder)/255.\n",
    "    x = xception.preprocess_input(np.expand_dims(img.copy(), axis=0))\n",
    "    X_train[i] = x"
   ]
  },
  {
   "cell_type": "code",
   "execution_count": 16,
   "metadata": {},
   "outputs": [],
   "source": [
    "# INPUT_SIZE=255\n",
    "# X_train = np.zeros((1, INPUT_SIZE, INPUT_SIZE, 3), dtype='float')\n",
    "\n",
    "# def batch_feature_extraction(start_index,end_index):\n",
    "#     X_train_batch = np.zeros((1000, INPUT_SIZE, INPUT_SIZE, 3), dtype='float')\n",
    "#     for index in range(start_index,end_index):\n",
    "#         diff=index-start_index\n",
    "#         my_path = df.iloc[index,0]\n",
    "#         print(f\"{index} \",end=\" \")\n",
    "#         #print(f\"file path is: {my_path}\")\n",
    "#         img = read_img(my_path,(INPUT_SIZE,INPUT_SIZE))\n",
    "#         #masking and segmentation\n",
    "#         image_segmented = segment_image(img)\n",
    "#         #sharpen\n",
    "#         image_sharpen = sharpen_image(image_segmented)\n",
    "#         x = xception.preprocess_input(np.expand_dims(image_sharpen.copy(), axis=0))\n",
    "#         #x = xception.preprocess_input(image_sharpen)\n",
    "#         #X_train=np.append(X_train,[x],axis=0)\n",
    "#         X_train_batch[diff]=x\n",
    "#     return X_train_batch"
   ]
  },
  {
   "cell_type": "code",
   "execution_count": 17,
   "metadata": {},
   "outputs": [],
   "source": [
    "# data_length = len(df)\n",
    "# batch_size= 1000\n",
    "# start_index=0\n",
    "# end_index=0\n",
    "\n",
    "# while start_index < data_length:\n",
    "#     end_index=end_index+batch_size\n",
    "#     end_index=end_index if end_index<data_length else data_length-1\n",
    "#     print(f\"start index is: {start_index} and end index is: {end_index}\")\n",
    "#     result=batch_feature_extraction(start_index,end_index)\n",
    "#     X_train=np.append(X_train,result,axis=0)\n",
    "#     start_index=end_index+1"
   ]
  },
  {
   "cell_type": "code",
   "execution_count": 18,
   "metadata": {},
   "outputs": [],
   "source": [
    "#X_train = np.delete(X_train, (0), axis=0)"
   ]
  },
  {
   "cell_type": "code",
   "execution_count": 19,
   "metadata": {
    "scrolled": true
   },
   "outputs": [
    {
     "name": "stdout",
     "output_type": "stream",
     "text": [
      "Train Image Shape:  (21092, 255, 255, 3)\n",
      "Train Image Size:  4114521900\n"
     ]
    }
   ],
   "source": [
    "print('Train Image Shape: ', X_train.shape)\n",
    "print('Train Image Size: ', X_train.size)"
   ]
  },
  {
   "cell_type": "markdown",
   "metadata": {},
   "source": [
    "#### SPLIT THE DATA"
   ]
  },
  {
   "cell_type": "code",
   "execution_count": 20,
   "metadata": {},
   "outputs": [],
   "source": [
    "y = df[['crack', 'efflorescence', 'intact','spalling']]\n",
    "train_x, train_val, y_train, y_val = train_test_split(X_train, y, test_size=0.2, random_state=101)"
   ]
  },
  {
   "cell_type": "code",
   "execution_count": 21,
   "metadata": {},
   "outputs": [
    {
     "name": "stdout",
     "output_type": "stream",
     "text": [
      "CRACK IMAGES ON TRAINING DATA:  5192\n",
      "EFFLORESCENCE IMAGES ON TRAINING DATA:  5300\n",
      "INTACT IMAGES ON TRAINING DATA:  5300\n",
      "SPALLING IMAGES ON TRAINING DATA:  5300\n"
     ]
    }
   ],
   "source": [
    "print('CRACK IMAGES ON TRAINING DATA: ',y['crack'].value_counts()[1])\n",
    "print('EFFLORESCENCE IMAGES ON TRAINING DATA: ',y['efflorescence'].value_counts()[1])\n",
    "print('INTACT IMAGES ON TRAINING DATA: ',y['intact'].value_counts()[1])\n",
    "print('SPALLING IMAGES ON TRAINING DATA: ',y['spalling'].value_counts()[1])\n"
   ]
  },
  {
   "cell_type": "code",
   "execution_count": 22,
   "metadata": {},
   "outputs": [
    {
     "name": "stdout",
     "output_type": "stream",
     "text": [
      "shapes are: (16873, 255, 255, 3) (4219, 255, 255, 3) (16873, 4) (4219, 4)\n"
     ]
    }
   ],
   "source": [
    "print(f\"shapes are: {train_x.shape} {train_val.shape} {y_train.shape} {y_val.shape}\")"
   ]
  },
  {
   "cell_type": "code",
   "execution_count": 23,
   "metadata": {
    "scrolled": true
   },
   "outputs": [
    {
     "name": "stdout",
     "output_type": "stream",
     "text": [
      "528/528 [==============================] - 1774s 3s/step\n",
      "132/132 [==============================] - 442s 3s/step\n"
     ]
    }
   ],
   "source": [
    "##get the features\n",
    "xception_bf = xception.Xception(weights='imagenet', include_top=False, pooling='avg')\n",
    "bf_train_x = xception_bf.predict(train_x, batch_size=32, verbose=1)\n",
    "bf_train_val = xception_bf.predict(train_val, batch_size=32, verbose=1)"
   ]
  },
  {
   "cell_type": "code",
   "execution_count": 24,
   "metadata": {},
   "outputs": [
    {
     "name": "stdout",
     "output_type": "stream",
     "text": [
      "Train Shape:  (16873, 2048)\n",
      "Train Size:  34555904\n",
      "Validation Shape:  (4219, 2048)\n",
      "Validation Size:  8640512\n"
     ]
    }
   ],
   "source": [
    "#print shape of feature and size\n",
    "print('Train Shape: ', bf_train_x.shape)\n",
    "print('Train Size: ', bf_train_x.size)\n",
    "\n",
    "print('Validation Shape: ', bf_train_val.shape)\n",
    "print('Validation Size: ', bf_train_val.size)"
   ]
  },
  {
   "cell_type": "markdown",
   "metadata": {},
   "source": [
    "### DEEP LEARNING MODEL"
   ]
  },
  {
   "cell_type": "code",
   "execution_count": 25,
   "metadata": {},
   "outputs": [
    {
     "name": "stdout",
     "output_type": "stream",
     "text": [
      "Model: \"sequential\"\n",
      "_________________________________________________________________\n",
      "Layer (type)                 Output Shape              Param #   \n",
      "=================================================================\n",
      "dense (Dense)                (None, 256)               524544    \n",
      "_________________________________________________________________\n",
      "dense_1 (Dense)              (None, 64)                16448     \n",
      "_________________________________________________________________\n",
      "dense_2 (Dense)              (None, 4)                 260       \n",
      "=================================================================\n",
      "Total params: 541,252\n",
      "Trainable params: 541,252\n",
      "Non-trainable params: 0\n",
      "_________________________________________________________________\n"
     ]
    }
   ],
   "source": [
    "model = Sequential()\n",
    "model.add(Dense(units = 256 , activation = 'relu', input_dim=bf_train_x.shape[1]))\n",
    "#model.add(Dropout(0.5))\n",
    "model.add(Dense(units = 64 , activation = 'relu'))\n",
    "#model.add(Dropout(0.5))\n",
    "model.add(Dense(units = 4, activation = 'softmax'))\n",
    "model.compile(optimizer = 'adam' , loss = 'categorical_crossentropy' , metrics = ['accuracy'])\n",
    "model.summary()"
   ]
  },
  {
   "cell_type": "code",
   "execution_count": 26,
   "metadata": {
    "_kg_hide-output": true
   },
   "outputs": [
    {
     "name": "stdout",
     "output_type": "stream",
     "text": [
      "Epoch 1/500\n",
      "528/528 [==============================] - 4s 4ms/step - loss: 1.3854 - accuracy: 0.2705\n",
      "Epoch 2/500\n",
      "528/528 [==============================] - 2s 4ms/step - loss: 1.2218 - accuracy: 0.4417\n",
      "Epoch 3/500\n",
      "528/528 [==============================] - 2s 4ms/step - loss: 1.1212 - accuracy: 0.5028\n",
      "Epoch 4/500\n",
      "528/528 [==============================] - 2s 4ms/step - loss: 1.1087 - accuracy: 0.5077\n",
      "Epoch 5/500\n",
      "528/528 [==============================] - 2s 4ms/step - loss: 1.1053 - accuracy: 0.5067\n",
      "Epoch 6/500\n",
      "528/528 [==============================] - 2s 4ms/step - loss: 1.0767 - accuracy: 0.5288\n",
      "Epoch 7/500\n",
      "528/528 [==============================] - 2s 5ms/step - loss: 1.0673 - accuracy: 0.5315\n",
      "Epoch 8/500\n",
      "528/528 [==============================] - 3s 5ms/step - loss: 1.0498 - accuracy: 0.5400\n",
      "Epoch 9/500\n",
      "528/528 [==============================] - 2s 4ms/step - loss: 1.0486 - accuracy: 0.5408\n",
      "Epoch 10/500\n",
      "528/528 [==============================] - 2s 4ms/step - loss: 1.0421 - accuracy: 0.5410\n",
      "Epoch 11/500\n",
      "528/528 [==============================] - 2s 4ms/step - loss: 1.0306 - accuracy: 0.5450\n",
      "Epoch 12/500\n",
      "528/528 [==============================] - 2s 4ms/step - loss: 1.0275 - accuracy: 0.5502\n",
      "Epoch 13/500\n",
      "528/528 [==============================] - 2s 5ms/step - loss: 1.0047 - accuracy: 0.5622: 0s - loss: 1.0065 - ac\n",
      "Epoch 14/500\n",
      "528/528 [==============================] - 2s 5ms/step - loss: 1.0041 - accuracy: 0.5642\n",
      "Epoch 15/500\n",
      "528/528 [==============================] - 2s 5ms/step - loss: 0.9962 - accuracy: 0.5678\n",
      "Epoch 16/500\n",
      "528/528 [==============================] - 2s 4ms/step - loss: 0.9912 - accuracy: 0.5700\n",
      "Epoch 17/500\n",
      "528/528 [==============================] - 2s 4ms/step - loss: 0.9781 - accuracy: 0.5803\n",
      "Epoch 18/500\n",
      "528/528 [==============================] - 2s 4ms/step - loss: 0.9610 - accuracy: 0.5872\n",
      "Epoch 19/500\n",
      "528/528 [==============================] - 2s 4ms/step - loss: 0.9665 - accuracy: 0.5813\n",
      "Epoch 20/500\n",
      "528/528 [==============================] - 3s 5ms/step - loss: 0.9436 - accuracy: 0.5943\n",
      "Epoch 21/500\n",
      "528/528 [==============================] - 3s 5ms/step - loss: 0.9408 - accuracy: 0.5948\n",
      "Epoch 22/500\n",
      "528/528 [==============================] - 3s 5ms/step - loss: 0.9226 - accuracy: 0.6053\n",
      "Epoch 23/500\n",
      "528/528 [==============================] - 2s 4ms/step - loss: 0.9244 - accuracy: 0.6046\n",
      "Epoch 24/500\n",
      "528/528 [==============================] - 2s 4ms/step - loss: 0.9196 - accuracy: 0.6093\n",
      "Epoch 25/500\n",
      "528/528 [==============================] - 2s 4ms/step - loss: 0.9146 - accuracy: 0.6042\n",
      "Epoch 26/500\n",
      "528/528 [==============================] - 2s 4ms/step - loss: 0.9075 - accuracy: 0.6103\n",
      "Epoch 27/500\n",
      "528/528 [==============================] - 2s 5ms/step - loss: 0.9117 - accuracy: 0.6104\n",
      "Epoch 28/500\n",
      "528/528 [==============================] - 3s 5ms/step - loss: 0.8961 - accuracy: 0.6173\n",
      "Epoch 29/500\n",
      "528/528 [==============================] - 2s 5ms/step - loss: 0.8880 - accuracy: 0.6209\n",
      "Epoch 30/500\n",
      "528/528 [==============================] - 2s 4ms/step - loss: 0.8992 - accuracy: 0.6164\n",
      "Epoch 31/500\n",
      "528/528 [==============================] - 2s 4ms/step - loss: 0.8826 - accuracy: 0.6263\n",
      "Epoch 32/500\n",
      "528/528 [==============================] - 2s 4ms/step - loss: 0.8796 - accuracy: 0.6269\n",
      "Epoch 33/500\n",
      "528/528 [==============================] - 2s 5ms/step - loss: 0.8805 - accuracy: 0.6253\n",
      "Epoch 34/500\n",
      "528/528 [==============================] - 2s 5ms/step - loss: 0.8719 - accuracy: 0.6291\n",
      "Epoch 35/500\n",
      "528/528 [==============================] - 2s 5ms/step - loss: 0.8564 - accuracy: 0.6368: 0s - loss: 0.8489 - ac\n",
      "Epoch 36/500\n",
      "528/528 [==============================] - 3s 5ms/step - loss: 0.8713 - accuracy: 0.6291\n",
      "Epoch 37/500\n",
      "528/528 [==============================] - 3s 6ms/step - loss: 0.8502 - accuracy: 0.6391\n",
      "Epoch 38/500\n",
      "528/528 [==============================] - 3s 6ms/step - loss: 0.8507 - accuracy: 0.6362\n",
      "Epoch 39/500\n",
      "528/528 [==============================] - 3s 5ms/step - loss: 0.8574 - accuracy: 0.6365\n",
      "Epoch 40/500\n",
      "528/528 [==============================] - 3s 5ms/step - loss: 0.8447 - accuracy: 0.6429\n",
      "Epoch 41/500\n",
      "528/528 [==============================] - 3s 6ms/step - loss: 0.8420 - accuracy: 0.6483\n",
      "Epoch 42/500\n",
      "528/528 [==============================] - 3s 5ms/step - loss: 0.8487 - accuracy: 0.6377\n",
      "Epoch 43/500\n",
      "528/528 [==============================] - 2s 5ms/step - loss: 0.8275 - accuracy: 0.6518\n",
      "Epoch 44/500\n",
      "528/528 [==============================] - 2s 5ms/step - loss: 0.8234 - accuracy: 0.6533\n",
      "Epoch 45/500\n",
      "528/528 [==============================] - 3s 5ms/step - loss: 0.8150 - accuracy: 0.6585\n",
      "Epoch 46/500\n",
      "528/528 [==============================] - 3s 5ms/step - loss: 0.8187 - accuracy: 0.6540\n",
      "Epoch 47/500\n",
      "528/528 [==============================] - 3s 5ms/step - loss: 0.8031 - accuracy: 0.6638\n",
      "Epoch 48/500\n",
      "528/528 [==============================] - 2s 5ms/step - loss: 0.8150 - accuracy: 0.6526\n",
      "Epoch 49/500\n",
      "528/528 [==============================] - 2s 5ms/step - loss: 0.8069 - accuracy: 0.6618\n",
      "Epoch 50/500\n",
      "528/528 [==============================] - 2s 5ms/step - loss: 0.7991 - accuracy: 0.6674\n",
      "Epoch 51/500\n",
      "528/528 [==============================] - 3s 5ms/step - loss: 0.8092 - accuracy: 0.6577\n",
      "Epoch 52/500\n",
      "528/528 [==============================] - 3s 5ms/step - loss: 0.7831 - accuracy: 0.6786\n",
      "Epoch 53/500\n",
      "528/528 [==============================] - 3s 5ms/step - loss: 0.7936 - accuracy: 0.6648\n",
      "Epoch 54/500\n",
      "528/528 [==============================] - 2s 4ms/step - loss: 0.7944 - accuracy: 0.6682\n",
      "Epoch 55/500\n",
      "528/528 [==============================] - 2s 4ms/step - loss: 0.7767 - accuracy: 0.6783\n",
      "Epoch 56/500\n",
      "528/528 [==============================] - 2s 5ms/step - loss: 0.7721 - accuracy: 0.6798\n",
      "Epoch 57/500\n",
      "528/528 [==============================] - 2s 4ms/step - loss: 0.7723 - accuracy: 0.6813\n",
      "Epoch 58/500\n",
      "528/528 [==============================] - 3s 5ms/step - loss: 0.7652 - accuracy: 0.6827\n",
      "Epoch 59/500\n",
      "528/528 [==============================] - 2s 5ms/step - loss: 0.7594 - accuracy: 0.6861\n",
      "Epoch 60/500\n",
      "528/528 [==============================] - 2s 5ms/step - loss: 0.7620 - accuracy: 0.6898\n",
      "Epoch 61/500\n",
      "528/528 [==============================] - 2s 5ms/step - loss: 0.7624 - accuracy: 0.6843\n",
      "Epoch 62/500\n",
      "528/528 [==============================] - 2s 5ms/step - loss: 0.7571 - accuracy: 0.6906\n",
      "Epoch 63/500\n",
      "528/528 [==============================] - 2s 5ms/step - loss: 0.7584 - accuracy: 0.6866\n",
      "Epoch 64/500\n",
      "528/528 [==============================] - 2s 5ms/step - loss: 0.7363 - accuracy: 0.7010\n",
      "Epoch 65/500\n",
      "528/528 [==============================] - 3s 5ms/step - loss: 0.7481 - accuracy: 0.6928\n",
      "Epoch 66/500\n",
      "528/528 [==============================] - 3s 5ms/step - loss: 0.7581 - accuracy: 0.6875\n",
      "Epoch 67/500\n",
      "528/528 [==============================] - 2s 5ms/step - loss: 0.7365 - accuracy: 0.6980\n",
      "Epoch 68/500\n",
      "528/528 [==============================] - 2s 4ms/step - loss: 0.7465 - accuracy: 0.6932\n",
      "Epoch 69/500\n",
      "528/528 [==============================] - 2s 5ms/step - loss: 0.7366 - accuracy: 0.6976\n",
      "Epoch 70/500\n",
      "528/528 [==============================] - 2s 4ms/step - loss: 0.7275 - accuracy: 0.7014: 0s - loss: 0.7233 - ac\n",
      "Epoch 71/500\n",
      "528/528 [==============================] - 3s 5ms/step - loss: 0.7356 - accuracy: 0.6995\n",
      "Epoch 72/500\n",
      "528/528 [==============================] - 3s 5ms/step - loss: 0.7177 - accuracy: 0.7040\n",
      "Epoch 73/500\n",
      "528/528 [==============================] - 3s 5ms/step - loss: 0.7189 - accuracy: 0.7036\n",
      "Epoch 74/500\n",
      "528/528 [==============================] - 2s 4ms/step - loss: 0.7327 - accuracy: 0.6979\n",
      "Epoch 75/500\n",
      "528/528 [==============================] - 2s 4ms/step - loss: 0.7357 - accuracy: 0.6970\n",
      "Epoch 76/500\n",
      "528/528 [==============================] - 2s 4ms/step - loss: 0.7182 - accuracy: 0.7051\n",
      "Epoch 77/500\n",
      "528/528 [==============================] - 2s 5ms/step - loss: 0.7244 - accuracy: 0.7056\n",
      "Epoch 78/500\n",
      "528/528 [==============================] - 3s 5ms/step - loss: 0.7070 - accuracy: 0.7121\n",
      "Epoch 79/500\n"
     ]
    },
    {
     "name": "stdout",
     "output_type": "stream",
     "text": [
      "528/528 [==============================] - 3s 5ms/step - loss: 0.7168 - accuracy: 0.7090: 0s - loss: 0.7174 - accuracy - ETA: 0s - loss: 0.7194 - ac\n",
      "Epoch 80/500\n",
      "528/528 [==============================] - 2s 4ms/step - loss: 0.7151 - accuracy: 0.7105\n",
      "Epoch 81/500\n",
      "528/528 [==============================] - 2s 4ms/step - loss: 0.7157 - accuracy: 0.7097\n",
      "Epoch 82/500\n",
      "528/528 [==============================] - 2s 4ms/step - loss: 0.7072 - accuracy: 0.7105\n",
      "Epoch 83/500\n",
      "528/528 [==============================] - 2s 4ms/step - loss: 0.7116 - accuracy: 0.7077\n",
      "Epoch 84/500\n",
      "528/528 [==============================] - 2s 5ms/step - loss: 0.7121 - accuracy: 0.7100\n",
      "Epoch 85/500\n",
      "528/528 [==============================] - 3s 5ms/step - loss: 0.6936 - accuracy: 0.7163\n",
      "Epoch 86/500\n",
      "528/528 [==============================] - 3s 5ms/step - loss: 0.6957 - accuracy: 0.7164\n",
      "Epoch 87/500\n",
      "528/528 [==============================] - 2s 5ms/step - loss: 0.6968 - accuracy: 0.7150\n",
      "Epoch 88/500\n",
      "528/528 [==============================] - 2s 5ms/step - loss: 0.7091 - accuracy: 0.7102\n",
      "Epoch 89/500\n",
      "528/528 [==============================] - 2s 4ms/step - loss: 0.6845 - accuracy: 0.7207\n",
      "Epoch 90/500\n",
      "528/528 [==============================] - 2s 5ms/step - loss: 0.6980 - accuracy: 0.7114\n",
      "Epoch 91/500\n",
      "528/528 [==============================] - 2s 5ms/step - loss: 0.6829 - accuracy: 0.7252\n",
      "Epoch 92/500\n",
      "528/528 [==============================] - 3s 5ms/step - loss: 0.6768 - accuracy: 0.7250\n",
      "Epoch 93/500\n",
      "528/528 [==============================] - 2s 5ms/step - loss: 0.6907 - accuracy: 0.7194\n",
      "Epoch 94/500\n",
      "528/528 [==============================] - 2s 4ms/step - loss: 0.6934 - accuracy: 0.7191\n",
      "Epoch 95/500\n",
      "528/528 [==============================] - 2s 4ms/step - loss: 0.6822 - accuracy: 0.7196\n",
      "Epoch 96/500\n",
      "528/528 [==============================] - 2s 4ms/step - loss: 0.6749 - accuracy: 0.7257\n",
      "Epoch 97/500\n",
      "528/528 [==============================] - 2s 5ms/step - loss: 0.6748 - accuracy: 0.7264\n",
      "Epoch 98/500\n",
      "528/528 [==============================] - 3s 5ms/step - loss: 0.6873 - accuracy: 0.7242: 0s - loss: 0.6925 - accuracy: \n",
      "Epoch 99/500\n",
      "528/528 [==============================] - 3s 5ms/step - loss: 0.6857 - accuracy: 0.7231\n",
      "Epoch 100/500\n",
      "528/528 [==============================] - 2s 4ms/step - loss: 0.6731 - accuracy: 0.7256\n",
      "Epoch 101/500\n",
      "528/528 [==============================] - 2s 4ms/step - loss: 0.6809 - accuracy: 0.7213\n",
      "Epoch 102/500\n",
      "528/528 [==============================] - 2s 4ms/step - loss: 0.6726 - accuracy: 0.7277\n",
      "Epoch 103/500\n",
      "528/528 [==============================] - 2s 4ms/step - loss: 0.6735 - accuracy: 0.7297\n",
      "Epoch 104/500\n",
      "528/528 [==============================] - 2s 5ms/step - loss: 0.6845 - accuracy: 0.7200\n",
      "Epoch 105/500\n",
      "528/528 [==============================] - 2s 5ms/step - loss: 0.6829 - accuracy: 0.7244\n",
      "Epoch 106/500\n",
      "528/528 [==============================] - 3s 5ms/step - loss: 0.6583 - accuracy: 0.7346\n",
      "Epoch 107/500\n",
      "528/528 [==============================] - 2s 5ms/step - loss: 0.6643 - accuracy: 0.7316\n",
      "Epoch 108/500\n",
      "528/528 [==============================] - 2s 4ms/step - loss: 0.6547 - accuracy: 0.7356\n",
      "Epoch 109/500\n",
      "528/528 [==============================] - 2s 4ms/step - loss: 0.6708 - accuracy: 0.7272\n",
      "Epoch 110/500\n",
      "528/528 [==============================] - 2s 5ms/step - loss: 0.6584 - accuracy: 0.7384\n",
      "Epoch 111/500\n",
      "528/528 [==============================] - 3s 5ms/step - loss: 0.6678 - accuracy: 0.7264\n",
      "Epoch 112/500\n",
      "528/528 [==============================] - 3s 5ms/step - loss: 0.6543 - accuracy: 0.7341: 1s - los\n",
      "Epoch 113/500\n",
      "528/528 [==============================] - 2s 4ms/step - loss: 0.6664 - accuracy: 0.7286\n",
      "Epoch 114/500\n",
      "528/528 [==============================] - 2s 4ms/step - loss: 0.6630 - accuracy: 0.7314\n",
      "Epoch 115/500\n",
      "528/528 [==============================] - 2s 4ms/step - loss: 0.6546 - accuracy: 0.7350\n",
      "Epoch 116/500\n",
      "528/528 [==============================] - 2s 4ms/step - loss: 0.6459 - accuracy: 0.7412\n",
      "Epoch 117/500\n",
      "528/528 [==============================] - 2s 5ms/step - loss: 0.6544 - accuracy: 0.7326\n",
      "Epoch 118/500\n",
      "528/528 [==============================] - 3s 5ms/step - loss: 0.6750 - accuracy: 0.7238\n",
      "Epoch 119/500\n",
      "528/528 [==============================] - 2s 5ms/step - loss: 0.6530 - accuracy: 0.7334\n",
      "Epoch 120/500\n",
      "528/528 [==============================] - 2s 4ms/step - loss: 0.6478 - accuracy: 0.7344\n",
      "Epoch 121/500\n",
      "528/528 [==============================] - 2s 4ms/step - loss: 0.6569 - accuracy: 0.7368\n",
      "Epoch 122/500\n",
      "528/528 [==============================] - 2s 4ms/step - loss: 0.6711 - accuracy: 0.7256\n",
      "Epoch 123/500\n",
      "528/528 [==============================] - 2s 4ms/step - loss: 0.6639 - accuracy: 0.7334\n",
      "Epoch 124/500\n",
      "528/528 [==============================] - 2s 5ms/step - loss: 0.6361 - accuracy: 0.7440\n",
      "Epoch 125/500\n",
      "528/528 [==============================] - 3s 5ms/step - loss: 0.6382 - accuracy: 0.7415\n",
      "Epoch 126/500\n",
      "528/528 [==============================] - 2s 5ms/step - loss: 0.6542 - accuracy: 0.7364\n",
      "Epoch 127/500\n",
      "528/528 [==============================] - 2s 5ms/step - loss: 0.6412 - accuracy: 0.7412\n",
      "Epoch 128/500\n",
      "528/528 [==============================] - 2s 4ms/step - loss: 0.6380 - accuracy: 0.7382\n",
      "Epoch 129/500\n",
      "528/528 [==============================] - 2s 4ms/step - loss: 0.6367 - accuracy: 0.7408\n",
      "Epoch 130/500\n",
      "528/528 [==============================] - 2s 5ms/step - loss: 0.6425 - accuracy: 0.7387: 0s - loss: 0.6413 - \n",
      "Epoch 131/500\n",
      "528/528 [==============================] - 3s 5ms/step - loss: 0.6282 - accuracy: 0.7441\n",
      "Epoch 132/500\n",
      "528/528 [==============================] - 3s 5ms/step - loss: 0.6417 - accuracy: 0.7372\n",
      "Epoch 133/500\n",
      "528/528 [==============================] - 2s 4ms/step - loss: 0.6315 - accuracy: 0.7426\n",
      "Epoch 134/500\n",
      "528/528 [==============================] - 2s 4ms/step - loss: 0.6514 - accuracy: 0.7411\n",
      "Epoch 135/500\n",
      "528/528 [==============================] - 2s 5ms/step - loss: 0.6294 - accuracy: 0.7463\n",
      "Epoch 136/500\n",
      "528/528 [==============================] - 2s 5ms/step - loss: 0.6440 - accuracy: 0.7388\n",
      "Epoch 137/500\n",
      "528/528 [==============================] - 2s 5ms/step - loss: 0.6262 - accuracy: 0.7455\n",
      "Epoch 138/500\n",
      "528/528 [==============================] - 2s 5ms/step - loss: 0.6477 - accuracy: 0.7390\n",
      "Epoch 139/500\n",
      "528/528 [==============================] - 3s 5ms/step - loss: 0.6329 - accuracy: 0.7451\n",
      "Epoch 140/500\n",
      "528/528 [==============================] - 2s 4ms/step - loss: 0.6282 - accuracy: 0.7450\n",
      "Epoch 141/500\n",
      "528/528 [==============================] - 2s 4ms/step - loss: 0.6406 - accuracy: 0.7391\n",
      "Epoch 142/500\n",
      "528/528 [==============================] - 2s 4ms/step - loss: 0.6232 - accuracy: 0.7472\n",
      "Epoch 143/500\n",
      "528/528 [==============================] - 2s 5ms/step - loss: 0.6370 - accuracy: 0.7433\n",
      "Epoch 144/500\n",
      "528/528 [==============================] - 3s 5ms/step - loss: 0.6293 - accuracy: 0.7490\n",
      "Epoch 145/500\n",
      "528/528 [==============================] - 3s 5ms/step - loss: 0.6458 - accuracy: 0.7399\n",
      "Epoch 146/500\n",
      "528/528 [==============================] - 2s 5ms/step - loss: 0.6196 - accuracy: 0.7484\n",
      "Epoch 147/500\n",
      "528/528 [==============================] - 2s 4ms/step - loss: 0.6192 - accuracy: 0.7508\n",
      "Epoch 148/500\n",
      "528/528 [==============================] - 2s 4ms/step - loss: 0.6308 - accuracy: 0.7452\n",
      "Epoch 149/500\n",
      "528/528 [==============================] - 2s 4ms/step - loss: 0.6202 - accuracy: 0.7504\n",
      "Epoch 150/500\n",
      "528/528 [==============================] - 2s 5ms/step - loss: 0.6273 - accuracy: 0.7481\n",
      "Epoch 151/500\n",
      "528/528 [==============================] - 3s 5ms/step - loss: 0.6386 - accuracy: 0.7408\n",
      "Epoch 152/500\n",
      "528/528 [==============================] - 3s 5ms/step - loss: 0.6181 - accuracy: 0.7524\n",
      "Epoch 153/500\n",
      "528/528 [==============================] - 2s 4ms/step - loss: 0.6183 - accuracy: 0.7549\n",
      "Epoch 154/500\n",
      "528/528 [==============================] - 2s 4ms/step - loss: 0.6259 - accuracy: 0.7471\n",
      "Epoch 155/500\n",
      "528/528 [==============================] - 2s 4ms/step - loss: 0.6209 - accuracy: 0.7481\n",
      "Epoch 156/500\n",
      "528/528 [==============================] - 2s 5ms/step - loss: 0.6187 - accuracy: 0.7497\n",
      "Epoch 157/500\n"
     ]
    },
    {
     "name": "stdout",
     "output_type": "stream",
     "text": [
      "528/528 [==============================] - 2s 5ms/step - loss: 0.6265 - accuracy: 0.7472\n",
      "Epoch 158/500\n",
      "528/528 [==============================] - 2s 5ms/step - loss: 0.6220 - accuracy: 0.7491\n",
      "Epoch 159/500\n",
      "528/528 [==============================] - 2s 5ms/step - loss: 0.6165 - accuracy: 0.7513\n",
      "Epoch 160/500\n",
      "528/528 [==============================] - 2s 4ms/step - loss: 0.6138 - accuracy: 0.7542\n",
      "Epoch 161/500\n",
      "528/528 [==============================] - 2s 5ms/step - loss: 0.6146 - accuracy: 0.7531\n",
      "Epoch 162/500\n",
      "528/528 [==============================] - 2s 4ms/step - loss: 0.6026 - accuracy: 0.7571\n",
      "Epoch 163/500\n",
      "528/528 [==============================] - 2s 5ms/step - loss: 0.6150 - accuracy: 0.7544\n",
      "Epoch 164/500\n",
      "528/528 [==============================] - 3s 5ms/step - loss: 0.6127 - accuracy: 0.7554: 0s - loss: 0.6168 \n",
      "Epoch 165/500\n",
      "528/528 [==============================] - 2s 5ms/step - loss: 0.6122 - accuracy: 0.7529\n",
      "Epoch 166/500\n",
      "528/528 [==============================] - 2s 4ms/step - loss: 0.6170 - accuracy: 0.7529\n",
      "Epoch 167/500\n",
      "528/528 [==============================] - 2s 4ms/step - loss: 0.6188 - accuracy: 0.7526\n",
      "Epoch 168/500\n",
      "528/528 [==============================] - 2s 4ms/step - loss: 0.6052 - accuracy: 0.7580\n",
      "Epoch 169/500\n",
      "528/528 [==============================] - 2s 4ms/step - loss: 0.6062 - accuracy: 0.7551\n",
      "Epoch 170/500\n",
      "528/528 [==============================] - 2s 5ms/step - loss: 0.6175 - accuracy: 0.7532\n",
      "Epoch 171/500\n",
      "528/528 [==============================] - 2s 5ms/step - loss: 0.5965 - accuracy: 0.7623\n",
      "Epoch 172/500\n",
      "528/528 [==============================] - 3s 5ms/step - loss: 0.6232 - accuracy: 0.7492\n",
      "Epoch 173/500\n",
      "528/528 [==============================] - 2s 4ms/step - loss: 0.6119 - accuracy: 0.7539\n",
      "Epoch 174/500\n",
      "528/528 [==============================] - 2s 4ms/step - loss: 0.6057 - accuracy: 0.7533\n",
      "Epoch 175/500\n",
      "528/528 [==============================] - 2s 5ms/step - loss: 0.6065 - accuracy: 0.7551\n",
      "Epoch 176/500\n",
      "528/528 [==============================] - 2s 4ms/step - loss: 0.6042 - accuracy: 0.7591\n",
      "Epoch 177/500\n",
      "528/528 [==============================] - 3s 5ms/step - loss: 0.6010 - accuracy: 0.7593\n",
      "Epoch 178/500\n",
      "528/528 [==============================] - 2s 5ms/step - loss: 0.5971 - accuracy: 0.7595\n",
      "Epoch 179/500\n",
      "528/528 [==============================] - 2s 5ms/step - loss: 0.6122 - accuracy: 0.7526\n",
      "Epoch 180/500\n",
      "528/528 [==============================] - 2s 5ms/step - loss: 0.6031 - accuracy: 0.7584\n",
      "Epoch 181/500\n",
      "528/528 [==============================] - 2s 4ms/step - loss: 0.5978 - accuracy: 0.7601\n",
      "Epoch 182/500\n",
      "528/528 [==============================] - 2s 4ms/step - loss: 0.6085 - accuracy: 0.7534\n",
      "Epoch 183/500\n",
      "528/528 [==============================] - 2s 5ms/step - loss: 0.5949 - accuracy: 0.7620\n",
      "Epoch 184/500\n",
      "528/528 [==============================] - 2s 5ms/step - loss: 0.6077 - accuracy: 0.7550\n",
      "Epoch 185/500\n",
      "528/528 [==============================] - 3s 5ms/step - loss: 0.5994 - accuracy: 0.7601\n",
      "Epoch 186/500\n",
      "528/528 [==============================] - 2s 4ms/step - loss: 0.5928 - accuracy: 0.7629\n",
      "Epoch 187/500\n",
      "528/528 [==============================] - 2s 5ms/step - loss: 0.6062 - accuracy: 0.7568\n",
      "Epoch 188/500\n",
      "528/528 [==============================] - 2s 5ms/step - loss: 0.5972 - accuracy: 0.7608\n",
      "Epoch 189/500\n",
      "528/528 [==============================] - 2s 5ms/step - loss: 0.6038 - accuracy: 0.7602: 1s - loss: 0.6036  - ETA: 0s - los\n",
      "Epoch 190/500\n",
      "528/528 [==============================] - 2s 5ms/step - loss: 0.5957 - accuracy: 0.7601\n",
      "Epoch 191/500\n",
      "528/528 [==============================] - 3s 5ms/step - loss: 0.6179 - accuracy: 0.7526\n",
      "Epoch 192/500\n",
      "528/528 [==============================] - 2s 5ms/step - loss: 0.6004 - accuracy: 0.7582\n",
      "Epoch 193/500\n",
      "528/528 [==============================] - 2s 5ms/step - loss: 0.6007 - accuracy: 0.7595\n",
      "Epoch 194/500\n",
      "528/528 [==============================] - 2s 4ms/step - loss: 0.6066 - accuracy: 0.7577\n",
      "Epoch 195/500\n",
      "528/528 [==============================] - 3s 5ms/step - loss: 0.5937 - accuracy: 0.7656\n",
      "Epoch 196/500\n",
      "528/528 [==============================] - 3s 5ms/step - loss: 0.5918 - accuracy: 0.7634\n",
      "Epoch 197/500\n",
      "528/528 [==============================] - 3s 5ms/step - loss: 0.5910 - accuracy: 0.7625\n",
      "Epoch 198/500\n",
      "528/528 [==============================] - 3s 5ms/step - loss: 0.5903 - accuracy: 0.7644: 0s\n",
      "Epoch 199/500\n",
      "528/528 [==============================] - 2s 5ms/step - loss: 0.5948 - accuracy: 0.7616\n",
      "Epoch 200/500\n",
      "528/528 [==============================] - 2s 4ms/step - loss: 0.5858 - accuracy: 0.7664\n",
      "Epoch 201/500\n",
      "528/528 [==============================] - 2s 4ms/step - loss: 0.5913 - accuracy: 0.7657\n",
      "Epoch 202/500\n",
      "528/528 [==============================] - 2s 4ms/step - loss: 0.5968 - accuracy: 0.7651\n",
      "Epoch 203/500\n",
      "528/528 [==============================] - 3s 5ms/step - loss: 0.5850 - accuracy: 0.7670\n",
      "Epoch 204/500\n",
      "528/528 [==============================] - 2s 5ms/step - loss: 0.5984 - accuracy: 0.7590: 0s - loss: 0.602\n",
      "Epoch 205/500\n",
      "528/528 [==============================] - 2s 5ms/step - loss: 0.5955 - accuracy: 0.7642\n",
      "Epoch 206/500\n",
      "528/528 [==============================] - 2s 4ms/step - loss: 0.5885 - accuracy: 0.7668\n",
      "Epoch 207/500\n",
      "528/528 [==============================] - 2s 4ms/step - loss: 0.5909 - accuracy: 0.7662\n",
      "Epoch 208/500\n",
      "528/528 [==============================] - 2s 4ms/step - loss: 0.6050 - accuracy: 0.7604\n",
      "Epoch 209/500\n",
      "528/528 [==============================] - 2s 5ms/step - loss: 0.5831 - accuracy: 0.7674\n",
      "Epoch 210/500\n",
      "528/528 [==============================] - 3s 5ms/step - loss: 0.5818 - accuracy: 0.7661\n",
      "Epoch 211/500\n",
      "528/528 [==============================] - 2s 5ms/step - loss: 0.6121 - accuracy: 0.7572\n",
      "Epoch 212/500\n",
      "528/528 [==============================] - 2s 5ms/step - loss: 0.5838 - accuracy: 0.7679: 0s - loss: 0.5838 - accuracy: 0.\n",
      "Epoch 213/500\n",
      "528/528 [==============================] - 3s 6ms/step - loss: 0.5762 - accuracy: 0.7692: 0s - loss: 0.5835 - accuracy: 0.76 - ETA: 0s - los\n",
      "Epoch 214/500\n",
      "528/528 [==============================] - 3s 5ms/step - loss: 0.5697 - accuracy: 0.7751\n",
      "Epoch 215/500\n",
      "528/528 [==============================] - 3s 5ms/step - loss: 0.6108 - accuracy: 0.7550: 0s - loss: 0.6080 - accuracy: 0.\n",
      "Epoch 216/500\n",
      "528/528 [==============================] - 3s 6ms/step - loss: 0.5941 - accuracy: 0.7578\n",
      "Epoch 217/500\n",
      "528/528 [==============================] - 3s 6ms/step - loss: 0.5725 - accuracy: 0.7718\n",
      "Epoch 218/500\n",
      "528/528 [==============================] - 3s 5ms/step - loss: 0.5894 - accuracy: 0.7652\n",
      "Epoch 219/500\n",
      "528/528 [==============================] - 2s 5ms/step - loss: 0.5743 - accuracy: 0.7706\n",
      "Epoch 220/500\n",
      "528/528 [==============================] - 2s 5ms/step - loss: 0.5784 - accuracy: 0.7695\n",
      "Epoch 221/500\n",
      "528/528 [==============================] - 3s 5ms/step - loss: 0.5851 - accuracy: 0.7667\n",
      "Epoch 222/500\n",
      "528/528 [==============================] - 3s 5ms/step - loss: 0.5725 - accuracy: 0.7736\n",
      "Epoch 223/500\n",
      "528/528 [==============================] - 3s 5ms/step - loss: 0.5772 - accuracy: 0.7710\n",
      "Epoch 224/500\n",
      "528/528 [==============================] - 2s 5ms/step - loss: 0.5781 - accuracy: 0.7686\n",
      "Epoch 225/500\n",
      "528/528 [==============================] - 2s 5ms/step - loss: 0.5831 - accuracy: 0.7696\n",
      "Epoch 226/500\n",
      "528/528 [==============================] - 2s 5ms/step - loss: 0.5829 - accuracy: 0.7663\n",
      "Epoch 227/500\n",
      "528/528 [==============================] - 2s 5ms/step - loss: 0.5671 - accuracy: 0.7741\n",
      "Epoch 228/500\n",
      "528/528 [==============================] - 3s 5ms/step - loss: 0.5843 - accuracy: 0.7655\n",
      "Epoch 229/500\n",
      "528/528 [==============================] - 3s 5ms/step - loss: 0.5620 - accuracy: 0.7761\n",
      "Epoch 230/500\n",
      "528/528 [==============================] - 2s 5ms/step - loss: 0.6071 - accuracy: 0.7585\n",
      "Epoch 231/500\n",
      "528/528 [==============================] - 2s 5ms/step - loss: 0.5800 - accuracy: 0.7699\n",
      "Epoch 232/500\n",
      "528/528 [==============================] - 2s 5ms/step - loss: 0.5653 - accuracy: 0.7740\n",
      "Epoch 233/500\n",
      "528/528 [==============================] - 2s 5ms/step - loss: 0.5789 - accuracy: 0.7692\n",
      "Epoch 234/500\n"
     ]
    },
    {
     "name": "stdout",
     "output_type": "stream",
     "text": [
      "528/528 [==============================] - 2s 5ms/step - loss: 0.5613 - accuracy: 0.7759\n",
      "Epoch 235/500\n",
      "528/528 [==============================] - 2s 5ms/step - loss: 0.5845 - accuracy: 0.7681\n",
      "Epoch 236/500\n",
      "528/528 [==============================] - 3s 5ms/step - loss: 0.5815 - accuracy: 0.7686\n",
      "Epoch 237/500\n",
      "528/528 [==============================] - 2s 4ms/step - loss: 0.5600 - accuracy: 0.7762\n",
      "Epoch 238/500\n",
      "528/528 [==============================] - 2s 4ms/step - loss: 0.5721 - accuracy: 0.7747\n",
      "Epoch 239/500\n",
      "528/528 [==============================] - 2s 5ms/step - loss: 0.5831 - accuracy: 0.7683\n",
      "Epoch 240/500\n",
      "528/528 [==============================] - 2s 5ms/step - loss: 0.5643 - accuracy: 0.7769\n",
      "Epoch 241/500\n",
      "528/528 [==============================] - 3s 5ms/step - loss: 0.5644 - accuracy: 0.7749\n",
      "Epoch 242/500\n",
      "528/528 [==============================] - 3s 5ms/step - loss: 0.5695 - accuracy: 0.7757\n",
      "Epoch 243/500\n",
      "528/528 [==============================] - 2s 5ms/step - loss: 0.5662 - accuracy: 0.7763\n",
      "Epoch 244/500\n",
      "528/528 [==============================] - 2s 4ms/step - loss: 0.5694 - accuracy: 0.7738\n",
      "Epoch 245/500\n",
      "528/528 [==============================] - 2s 5ms/step - loss: 0.5551 - accuracy: 0.7782\n",
      "Epoch 246/500\n",
      "528/528 [==============================] - 2s 4ms/step - loss: 0.5681 - accuracy: 0.7764\n",
      "Epoch 247/500\n",
      "528/528 [==============================] - 3s 5ms/step - loss: 0.5667 - accuracy: 0.7728\n",
      "Epoch 248/500\n",
      "528/528 [==============================] - 3s 5ms/step - loss: 0.5651 - accuracy: 0.7753\n",
      "Epoch 249/500\n",
      "528/528 [==============================] - 2s 5ms/step - loss: 0.5561 - accuracy: 0.7814\n",
      "Epoch 250/500\n",
      "528/528 [==============================] - 2s 4ms/step - loss: 0.5617 - accuracy: 0.7730\n",
      "Epoch 251/500\n",
      "528/528 [==============================] - 2s 5ms/step - loss: 0.5701 - accuracy: 0.7724\n",
      "Epoch 252/500\n",
      "528/528 [==============================] - 2s 4ms/step - loss: 0.5650 - accuracy: 0.7742\n",
      "Epoch 253/500\n",
      "528/528 [==============================] - 2s 5ms/step - loss: 0.5639 - accuracy: 0.7767\n",
      "Epoch 254/500\n",
      "528/528 [==============================] - 3s 5ms/step - loss: 0.5520 - accuracy: 0.7785\n",
      "Epoch 255/500\n",
      "528/528 [==============================] - 3s 5ms/step - loss: 0.5621 - accuracy: 0.7790\n",
      "Epoch 256/500\n",
      "528/528 [==============================] - 2s 5ms/step - loss: 0.5570 - accuracy: 0.7792\n",
      "Epoch 257/500\n",
      "528/528 [==============================] - 2s 5ms/step - loss: 0.5625 - accuracy: 0.7757\n",
      "Epoch 258/500\n",
      "528/528 [==============================] - 2s 5ms/step - loss: 0.5654 - accuracy: 0.7769\n",
      "Epoch 259/500\n",
      "528/528 [==============================] - 2s 5ms/step - loss: 0.5616 - accuracy: 0.7762\n",
      "Epoch 260/500\n",
      "528/528 [==============================] - 3s 5ms/step - loss: 0.5557 - accuracy: 0.7773\n",
      "Epoch 261/500\n",
      "528/528 [==============================] - 3s 5ms/step - loss: 0.5567 - accuracy: 0.7793\n",
      "Epoch 262/500\n",
      "528/528 [==============================] - 3s 5ms/step - loss: 0.5499 - accuracy: 0.7791\n",
      "Epoch 263/500\n",
      "528/528 [==============================] - 2s 5ms/step - loss: 0.5463 - accuracy: 0.7869\n",
      "Epoch 264/500\n",
      "528/528 [==============================] - 2s 5ms/step - loss: 0.5849 - accuracy: 0.7699\n",
      "Epoch 265/500\n",
      "528/528 [==============================] - 2s 5ms/step - loss: 0.5495 - accuracy: 0.7817\n",
      "Epoch 266/500\n",
      "528/528 [==============================] - 2s 5ms/step - loss: 0.5767 - accuracy: 0.7716\n",
      "Epoch 267/500\n",
      "528/528 [==============================] - 3s 5ms/step - loss: 0.5613 - accuracy: 0.7787\n",
      "Epoch 268/500\n",
      "528/528 [==============================] - 3s 5ms/step - loss: 0.5605 - accuracy: 0.7746\n",
      "Epoch 269/500\n",
      "528/528 [==============================] - 2s 5ms/step - loss: 0.5426 - accuracy: 0.7850\n",
      "Epoch 270/500\n",
      "528/528 [==============================] - 2s 4ms/step - loss: 0.5646 - accuracy: 0.7718\n",
      "Epoch 271/500\n",
      "528/528 [==============================] - 2s 5ms/step - loss: 0.5686 - accuracy: 0.7721\n",
      "Epoch 272/500\n",
      "528/528 [==============================] - 2s 5ms/step - loss: 0.5494 - accuracy: 0.7827\n",
      "Epoch 273/500\n",
      "528/528 [==============================] - 3s 5ms/step - loss: 0.5506 - accuracy: 0.7800\n",
      "Epoch 274/500\n",
      "528/528 [==============================] - 3s 5ms/step - loss: 0.5384 - accuracy: 0.7924\n",
      "Epoch 275/500\n",
      "528/528 [==============================] - 3s 5ms/step - loss: 0.5369 - accuracy: 0.7890\n",
      "Epoch 276/500\n",
      "528/528 [==============================] - 2s 5ms/step - loss: 0.5497 - accuracy: 0.7792\n",
      "Epoch 277/500\n",
      "528/528 [==============================] - 2s 5ms/step - loss: 0.5601 - accuracy: 0.7770\n",
      "Epoch 278/500\n",
      "528/528 [==============================] - 2s 5ms/step - loss: 0.5473 - accuracy: 0.7866\n",
      "Epoch 279/500\n",
      "528/528 [==============================] - 2s 5ms/step - loss: 0.5471 - accuracy: 0.7844\n",
      "Epoch 280/500\n",
      "528/528 [==============================] - 3s 5ms/step - loss: 0.5497 - accuracy: 0.7841\n",
      "Epoch 281/500\n",
      "528/528 [==============================] - 3s 5ms/step - loss: 0.5384 - accuracy: 0.7898\n",
      "Epoch 282/500\n",
      "528/528 [==============================] - 2s 5ms/step - loss: 0.5445 - accuracy: 0.7863\n",
      "Epoch 283/500\n",
      "528/528 [==============================] - 2s 5ms/step - loss: 0.5510 - accuracy: 0.7818\n",
      "Epoch 284/500\n",
      "528/528 [==============================] - 2s 5ms/step - loss: 0.5452 - accuracy: 0.7828\n",
      "Epoch 285/500\n",
      "528/528 [==============================] - 2s 5ms/step - loss: 0.5533 - accuracy: 0.7776\n",
      "Epoch 286/500\n",
      "528/528 [==============================] - 2s 5ms/step - loss: 0.5411 - accuracy: 0.7835\n",
      "Epoch 287/500\n",
      "528/528 [==============================] - 3s 5ms/step - loss: 0.5446 - accuracy: 0.7825\n",
      "Epoch 288/500\n",
      "528/528 [==============================] - 3s 5ms/step - loss: 0.5482 - accuracy: 0.7805: 0s - loss: 0.5\n",
      "Epoch 289/500\n",
      "528/528 [==============================] - 2s 5ms/step - loss: 0.5471 - accuracy: 0.7827\n",
      "Epoch 290/500\n",
      "528/528 [==============================] - 2s 4ms/step - loss: 0.5380 - accuracy: 0.7863\n",
      "Epoch 291/500\n",
      "528/528 [==============================] - 2s 5ms/step - loss: 0.5489 - accuracy: 0.7796: 0s - loss: 0.554\n",
      "Epoch 292/500\n",
      "528/528 [==============================] - 2s 5ms/step - loss: 0.5333 - accuracy: 0.7872\n",
      "Epoch 293/500\n",
      "528/528 [==============================] - 3s 5ms/step - loss: 0.5432 - accuracy: 0.7865\n",
      "Epoch 294/500\n",
      "528/528 [==============================] - 3s 5ms/step - loss: 0.5400 - accuracy: 0.7858\n",
      "Epoch 295/500\n",
      "528/528 [==============================] - 2s 5ms/step - loss: 0.5704 - accuracy: 0.7744\n",
      "Epoch 296/500\n",
      "528/528 [==============================] - 2s 4ms/step - loss: 0.5627 - accuracy: 0.7779\n",
      "Epoch 297/500\n",
      "528/528 [==============================] - 2s 5ms/step - loss: 0.5452 - accuracy: 0.7836\n",
      "Epoch 298/500\n",
      "528/528 [==============================] - 2s 5ms/step - loss: 0.5464 - accuracy: 0.7849\n",
      "Epoch 299/500\n",
      "528/528 [==============================] - 2s 5ms/step - loss: 0.5407 - accuracy: 0.7883\n",
      "Epoch 300/500\n",
      "528/528 [==============================] - 3s 5ms/step - loss: 0.5376 - accuracy: 0.7890\n",
      "Epoch 301/500\n",
      "528/528 [==============================] - 3s 5ms/step - loss: 0.5499 - accuracy: 0.7817\n",
      "Epoch 302/500\n",
      "528/528 [==============================] - 2s 5ms/step - loss: 0.5345 - accuracy: 0.7869\n",
      "Epoch 303/500\n",
      "528/528 [==============================] - 2s 4ms/step - loss: 0.5398 - accuracy: 0.7866\n",
      "Epoch 304/500\n",
      "528/528 [==============================] - 2s 5ms/step - loss: 0.5369 - accuracy: 0.7879\n",
      "Epoch 305/500\n",
      "528/528 [==============================] - 2s 5ms/step - loss: 0.5469 - accuracy: 0.7812\n",
      "Epoch 306/500\n",
      "528/528 [==============================] - 3s 5ms/step - loss: 0.5407 - accuracy: 0.7856\n",
      "Epoch 307/500\n",
      "528/528 [==============================] - 3s 5ms/step - loss: 0.5488 - accuracy: 0.7817\n",
      "Epoch 308/500\n",
      "528/528 [==============================] - 2s 5ms/step - loss: 0.5347 - accuracy: 0.7884\n",
      "Epoch 309/500\n",
      "528/528 [==============================] - 2s 5ms/step - loss: 0.5370 - accuracy: 0.7855\n",
      "Epoch 310/500\n",
      "528/528 [==============================] - 2s 5ms/step - loss: 0.5398 - accuracy: 0.7877\n",
      "Epoch 311/500\n",
      "528/528 [==============================] - 2s 5ms/step - loss: 0.5268 - accuracy: 0.7936\n",
      "Epoch 312/500\n"
     ]
    },
    {
     "name": "stdout",
     "output_type": "stream",
     "text": [
      "528/528 [==============================] - 2s 5ms/step - loss: 0.5275 - accuracy: 0.7923\n",
      "Epoch 313/500\n",
      "528/528 [==============================] - 2s 5ms/step - loss: 0.5500 - accuracy: 0.7860\n",
      "Epoch 314/500\n",
      "528/528 [==============================] - 2s 5ms/step - loss: 0.5467 - accuracy: 0.7837\n",
      "Epoch 315/500\n",
      "528/528 [==============================] - 2s 4ms/step - loss: 0.5265 - accuracy: 0.7947\n",
      "Epoch 316/500\n",
      "528/528 [==============================] - 2s 4ms/step - loss: 0.5276 - accuracy: 0.7892\n",
      "Epoch 317/500\n",
      "528/528 [==============================] - 2s 5ms/step - loss: 0.5344 - accuracy: 0.7919\n",
      "Epoch 318/500\n",
      "528/528 [==============================] - 2s 4ms/step - loss: 0.5374 - accuracy: 0.7872\n",
      "Epoch 319/500\n",
      "528/528 [==============================] - 2s 5ms/step - loss: 0.5340 - accuracy: 0.7908\n",
      "Epoch 320/500\n",
      "528/528 [==============================] - 2s 5ms/step - loss: 0.5361 - accuracy: 0.7888\n",
      "Epoch 321/500\n",
      "528/528 [==============================] - 2s 5ms/step - loss: 0.5344 - accuracy: 0.7872\n",
      "Epoch 322/500\n",
      "528/528 [==============================] - 2s 4ms/step - loss: 0.5324 - accuracy: 0.7871\n",
      "Epoch 323/500\n",
      "528/528 [==============================] - 2s 4ms/step - loss: 0.5317 - accuracy: 0.7920\n",
      "Epoch 324/500\n",
      "528/528 [==============================] - 2s 5ms/step - loss: 0.5338 - accuracy: 0.7885\n",
      "Epoch 325/500\n",
      "528/528 [==============================] - 2s 5ms/step - loss: 0.5266 - accuracy: 0.7945\n",
      "Epoch 326/500\n",
      "528/528 [==============================] - 2s 5ms/step - loss: 0.5391 - accuracy: 0.7850\n",
      "Epoch 327/500\n",
      "528/528 [==============================] - 3s 5ms/step - loss: 0.5454 - accuracy: 0.7821: 0s - loss: 0.5448 - accuracy: \n",
      "Epoch 328/500\n",
      "528/528 [==============================] - 2s 4ms/step - loss: 0.5423 - accuracy: 0.7826\n",
      "Epoch 329/500\n",
      "528/528 [==============================] - 2s 4ms/step - loss: 0.5327 - accuracy: 0.7883\n",
      "Epoch 330/500\n",
      "528/528 [==============================] - 2s 4ms/step - loss: 0.5215 - accuracy: 0.7970\n",
      "Epoch 331/500\n",
      "528/528 [==============================] - 2s 4ms/step - loss: 0.5116 - accuracy: 0.7968\n",
      "Epoch 332/500\n",
      "528/528 [==============================] - 2s 5ms/step - loss: 0.5360 - accuracy: 0.7882\n",
      "Epoch 333/500\n",
      "528/528 [==============================] - 3s 5ms/step - loss: 0.5253 - accuracy: 0.7942\n",
      "Epoch 334/500\n",
      "528/528 [==============================] - 2s 5ms/step - loss: 0.5200 - accuracy: 0.7949\n",
      "Epoch 335/500\n",
      "528/528 [==============================] - 2s 5ms/step - loss: 0.5280 - accuracy: 0.7904\n",
      "Epoch 336/500\n",
      "528/528 [==============================] - 2s 4ms/step - loss: 0.5294 - accuracy: 0.7898\n",
      "Epoch 337/500\n",
      "528/528 [==============================] - 2s 4ms/step - loss: 0.5201 - accuracy: 0.7972\n",
      "Epoch 338/500\n",
      "528/528 [==============================] - 2s 4ms/step - loss: 0.5264 - accuracy: 0.7930\n",
      "Epoch 339/500\n",
      "528/528 [==============================] - 2s 5ms/step - loss: 0.5364 - accuracy: 0.7883\n",
      "Epoch 340/500\n",
      "528/528 [==============================] - 3s 5ms/step - loss: 0.5323 - accuracy: 0.7911\n",
      "Epoch 341/500\n",
      "528/528 [==============================] - 2s 4ms/step - loss: 0.5168 - accuracy: 0.7960\n",
      "Epoch 342/500\n",
      "528/528 [==============================] - 2s 4ms/step - loss: 0.5219 - accuracy: 0.7955\n",
      "Epoch 343/500\n",
      "528/528 [==============================] - 2s 4ms/step - loss: 0.5194 - accuracy: 0.7940\n",
      "Epoch 344/500\n",
      "528/528 [==============================] - 2s 4ms/step - loss: 0.5265 - accuracy: 0.7892\n",
      "Epoch 345/500\n",
      "528/528 [==============================] - 2s 5ms/step - loss: 0.5234 - accuracy: 0.7921\n",
      "Epoch 346/500\n",
      "528/528 [==============================] - 2s 5ms/step - loss: 0.5234 - accuracy: 0.7913\n",
      "Epoch 347/500\n",
      "528/528 [==============================] - 2s 5ms/step - loss: 0.5358 - accuracy: 0.7857\n",
      "Epoch 348/500\n",
      "528/528 [==============================] - 2s 4ms/step - loss: 0.5288 - accuracy: 0.7884\n",
      "Epoch 349/500\n",
      "528/528 [==============================] - 2s 4ms/step - loss: 0.5119 - accuracy: 0.7977\n",
      "Epoch 350/500\n",
      "528/528 [==============================] - 2s 4ms/step - loss: 0.5271 - accuracy: 0.7919\n",
      "Epoch 351/500\n",
      "528/528 [==============================] - 2s 4ms/step - loss: 0.5135 - accuracy: 0.7987\n",
      "Epoch 352/500\n",
      "528/528 [==============================] - 2s 5ms/step - loss: 0.5199 - accuracy: 0.7951\n",
      "Epoch 353/500\n",
      "528/528 [==============================] - 2s 5ms/step - loss: 0.5180 - accuracy: 0.7955\n",
      "Epoch 354/500\n",
      "528/528 [==============================] - 2s 5ms/step - loss: 0.5201 - accuracy: 0.7932\n",
      "Epoch 355/500\n",
      "528/528 [==============================] - 2s 4ms/step - loss: 0.5218 - accuracy: 0.7945\n",
      "Epoch 356/500\n",
      "528/528 [==============================] - 2s 4ms/step - loss: 0.5282 - accuracy: 0.7906\n",
      "Epoch 357/500\n",
      "528/528 [==============================] - 2s 4ms/step - loss: 0.5164 - accuracy: 0.7958\n",
      "Epoch 358/500\n",
      "528/528 [==============================] - 2s 5ms/step - loss: 0.5186 - accuracy: 0.7974\n",
      "Epoch 359/500\n",
      "528/528 [==============================] - 3s 5ms/step - loss: 0.5171 - accuracy: 0.7956\n",
      "Epoch 360/500\n",
      "528/528 [==============================] - 3s 5ms/step - loss: 0.5128 - accuracy: 0.8021\n",
      "Epoch 361/500\n",
      "528/528 [==============================] - 2s 5ms/step - loss: 0.5270 - accuracy: 0.7908\n",
      "Epoch 362/500\n",
      "528/528 [==============================] - 2s 4ms/step - loss: 0.5113 - accuracy: 0.7993\n",
      "Epoch 363/500\n",
      "528/528 [==============================] - 2s 4ms/step - loss: 0.5197 - accuracy: 0.7912\n",
      "Epoch 364/500\n",
      "528/528 [==============================] - 2s 4ms/step - loss: 0.5107 - accuracy: 0.7993\n",
      "Epoch 365/500\n",
      "528/528 [==============================] - 2s 5ms/step - loss: 0.5213 - accuracy: 0.7934: 0s -\n",
      "Epoch 366/500\n",
      "528/528 [==============================] - 2s 5ms/step - loss: 0.5093 - accuracy: 0.7990\n",
      "Epoch 367/500\n",
      "528/528 [==============================] - 3s 5ms/step - loss: 0.5152 - accuracy: 0.7971\n",
      "Epoch 368/500\n",
      "528/528 [==============================] - 2s 5ms/step - loss: 0.5137 - accuracy: 0.7951\n",
      "Epoch 369/500\n",
      "528/528 [==============================] - 2s 4ms/step - loss: 0.5311 - accuracy: 0.7908\n",
      "Epoch 370/500\n",
      "528/528 [==============================] - 2s 4ms/step - loss: 0.5147 - accuracy: 0.7948: 0s - loss: 0.5128 - accuracy\n",
      "Epoch 371/500\n",
      "528/528 [==============================] - 2s 4ms/step - loss: 0.5151 - accuracy: 0.7984\n",
      "Epoch 372/500\n",
      "528/528 [==============================] - 3s 5ms/step - loss: 0.5257 - accuracy: 0.7947\n",
      "Epoch 373/500\n",
      "528/528 [==============================] - 3s 5ms/step - loss: 0.5166 - accuracy: 0.7958\n",
      "Epoch 374/500\n",
      "528/528 [==============================] - 2s 5ms/step - loss: 0.5227 - accuracy: 0.7927\n",
      "Epoch 375/500\n",
      "528/528 [==============================] - 2s 5ms/step - loss: 0.5082 - accuracy: 0.7996\n",
      "Epoch 376/500\n",
      "528/528 [==============================] - 2s 4ms/step - loss: 0.5176 - accuracy: 0.7973\n",
      "Epoch 377/500\n",
      "528/528 [==============================] - 3s 5ms/step - loss: 0.5214 - accuracy: 0.7913\n",
      "Epoch 378/500\n",
      "528/528 [==============================] - 3s 5ms/step - loss: 0.5141 - accuracy: 0.7987\n",
      "Epoch 379/500\n",
      "528/528 [==============================] - 3s 5ms/step - loss: 0.5157 - accuracy: 0.7945\n",
      "Epoch 380/500\n",
      "528/528 [==============================] - 3s 5ms/step - loss: 0.5185 - accuracy: 0.7916\n",
      "Epoch 381/500\n",
      "528/528 [==============================] - 2s 5ms/step - loss: 0.5066 - accuracy: 0.8008\n",
      "Epoch 382/500\n",
      "528/528 [==============================] - 2s 5ms/step - loss: 0.5086 - accuracy: 0.8007\n",
      "Epoch 383/500\n",
      "528/528 [==============================] - 3s 5ms/step - loss: 0.5125 - accuracy: 0.7986: 0s - loss: 0.5143 - accuracy: 0.\n",
      "Epoch 384/500\n",
      "528/528 [==============================] - 2s 5ms/step - loss: 0.5202 - accuracy: 0.7935\n",
      "Epoch 385/500\n",
      "528/528 [==============================] - 3s 5ms/step - loss: 0.5030 - accuracy: 0.8040\n",
      "Epoch 386/500\n",
      "528/528 [==============================] - 3s 5ms/step - loss: 0.5068 - accuracy: 0.7994\n",
      "Epoch 387/500\n",
      "528/528 [==============================] - ETA: 0s - loss: 0.5015 - accuracy: 0.80 - 2s 5ms/step - loss: 0.5017 - accuracy: 0.8042\n",
      "Epoch 388/500\n",
      "528/528 [==============================] - 2s 5ms/step - loss: 0.5120 - accuracy: 0.7983\n",
      "Epoch 389/500\n",
      "528/528 [==============================] - 2s 5ms/step - loss: 0.4981 - accuracy: 0.8023\n",
      "Epoch 390/500\n"
     ]
    },
    {
     "name": "stdout",
     "output_type": "stream",
     "text": [
      "528/528 [==============================] - 2s 4ms/step - loss: 0.5321 - accuracy: 0.7903\n",
      "Epoch 391/500\n",
      "528/528 [==============================] - 2s 5ms/step - loss: 0.5214 - accuracy: 0.7955\n",
      "Epoch 392/500\n",
      "528/528 [==============================] - 2s 5ms/step - loss: 0.5027 - accuracy: 0.8013\n",
      "Epoch 393/500\n",
      "528/528 [==============================] - 2s 5ms/step - loss: 0.5137 - accuracy: 0.7968\n",
      "Epoch 394/500\n",
      "528/528 [==============================] - 2s 4ms/step - loss: 0.5069 - accuracy: 0.7999\n",
      "Epoch 395/500\n",
      "528/528 [==============================] - 2s 4ms/step - loss: 0.5134 - accuracy: 0.7977\n",
      "Epoch 396/500\n",
      "528/528 [==============================] - 2s 4ms/step - loss: 0.5101 - accuracy: 0.8018\n",
      "Epoch 397/500\n",
      "528/528 [==============================] - 2s 4ms/step - loss: 0.5099 - accuracy: 0.7986\n",
      "Epoch 398/500\n",
      "528/528 [==============================] - 2s 5ms/step - loss: 0.5053 - accuracy: 0.7996\n",
      "Epoch 399/500\n",
      "528/528 [==============================] - 2s 5ms/step - loss: 0.5088 - accuracy: 0.7991\n",
      "Epoch 400/500\n",
      "528/528 [==============================] - 2s 5ms/step - loss: 0.5159 - accuracy: 0.7981\n",
      "Epoch 401/500\n",
      "528/528 [==============================] - 2s 4ms/step - loss: 0.5017 - accuracy: 0.8005\n",
      "Epoch 402/500\n",
      "528/528 [==============================] - 2s 4ms/step - loss: 0.5057 - accuracy: 0.8013\n",
      "Epoch 403/500\n",
      "528/528 [==============================] - 2s 4ms/step - loss: 0.5030 - accuracy: 0.8034\n",
      "Epoch 404/500\n",
      "528/528 [==============================] - 2s 5ms/step - loss: 0.4988 - accuracy: 0.8029\n",
      "Epoch 405/500\n",
      "528/528 [==============================] - 2s 5ms/step - loss: 0.4988 - accuracy: 0.8025\n",
      "Epoch 406/500\n",
      "528/528 [==============================] - 2s 5ms/step - loss: 0.5095 - accuracy: 0.8004\n",
      "Epoch 407/500\n",
      "528/528 [==============================] - 2s 4ms/step - loss: 0.5044 - accuracy: 0.8004\n",
      "Epoch 408/500\n",
      "528/528 [==============================] - 2s 5ms/step - loss: 0.5061 - accuracy: 0.8022\n",
      "Epoch 409/500\n",
      "528/528 [==============================] - 3s 5ms/step - loss: 0.5098 - accuracy: 0.7964\n",
      "Epoch 410/500\n",
      "528/528 [==============================] - 3s 5ms/step - loss: 0.5054 - accuracy: 0.8028\n",
      "Epoch 411/500\n",
      "528/528 [==============================] - 3s 5ms/step - loss: 0.4931 - accuracy: 0.8032\n",
      "Epoch 412/500\n",
      "528/528 [==============================] - 3s 5ms/step - loss: 0.4939 - accuracy: 0.8082\n",
      "Epoch 413/500\n",
      "528/528 [==============================] - 2s 5ms/step - loss: 0.5212 - accuracy: 0.7941\n",
      "Epoch 414/500\n",
      "528/528 [==============================] - 2s 4ms/step - loss: 0.5069 - accuracy: 0.7984\n",
      "Epoch 415/500\n",
      "528/528 [==============================] - 2s 4ms/step - loss: 0.5093 - accuracy: 0.8015\n",
      "Epoch 416/500\n",
      "528/528 [==============================] - 2s 4ms/step - loss: 0.5078 - accuracy: 0.8016\n",
      "Epoch 417/500\n",
      "528/528 [==============================] - 2s 5ms/step - loss: 0.5075 - accuracy: 0.8005: 0s - loss: 0.5087 - accuracy\n",
      "Epoch 418/500\n",
      "528/528 [==============================] - 2s 5ms/step - loss: 0.5178 - accuracy: 0.7938\n",
      "Epoch 419/500\n",
      "528/528 [==============================] - 3s 5ms/step - loss: 0.5019 - accuracy: 0.8039\n",
      "Epoch 420/500\n",
      "528/528 [==============================] - 2s 4ms/step - loss: 0.5001 - accuracy: 0.8028\n",
      "Epoch 421/500\n",
      "528/528 [==============================] - 2s 5ms/step - loss: 0.5135 - accuracy: 0.7951\n",
      "Epoch 422/500\n",
      "528/528 [==============================] - 2s 5ms/step - loss: 0.5024 - accuracy: 0.8000\n",
      "Epoch 423/500\n",
      "528/528 [==============================] - 2s 4ms/step - loss: 0.5078 - accuracy: 0.8016\n",
      "Epoch 424/500\n",
      "528/528 [==============================] - 3s 5ms/step - loss: 0.5165 - accuracy: 0.7954\n",
      "Epoch 425/500\n",
      "528/528 [==============================] - 2s 5ms/step - loss: 0.5028 - accuracy: 0.8017\n",
      "Epoch 426/500\n",
      "528/528 [==============================] - 2s 5ms/step - loss: 0.5000 - accuracy: 0.8038\n",
      "Epoch 427/500\n",
      "528/528 [==============================] - 2s 4ms/step - loss: 0.5039 - accuracy: 0.8038\n",
      "Epoch 428/500\n",
      "528/528 [==============================] - 2s 5ms/step - loss: 0.5053 - accuracy: 0.7996\n",
      "Epoch 429/500\n",
      "528/528 [==============================] - 2s 4ms/step - loss: 0.5108 - accuracy: 0.7976\n",
      "Epoch 430/500\n",
      "528/528 [==============================] - 2s 5ms/step - loss: 0.4938 - accuracy: 0.8047\n",
      "Epoch 431/500\n",
      "528/528 [==============================] - 3s 5ms/step - loss: 0.4960 - accuracy: 0.8067\n",
      "Epoch 432/500\n",
      "528/528 [==============================] - 3s 5ms/step - loss: 0.5040 - accuracy: 0.7975\n",
      "Epoch 433/500\n",
      "528/528 [==============================] - 2s 5ms/step - loss: 0.5088 - accuracy: 0.8016\n",
      "Epoch 434/500\n",
      "528/528 [==============================] - 2s 4ms/step - loss: 0.4913 - accuracy: 0.8058\n",
      "Epoch 435/500\n",
      "528/528 [==============================] - 2s 5ms/step - loss: 0.5014 - accuracy: 0.7998\n",
      "Epoch 436/500\n",
      "528/528 [==============================] - 2s 4ms/step - loss: 0.4954 - accuracy: 0.8069\n",
      "Epoch 437/500\n",
      "528/528 [==============================] - 2s 5ms/step - loss: 0.5084 - accuracy: 0.8012\n",
      "Epoch 438/500\n",
      "528/528 [==============================] - 3s 5ms/step - loss: 0.5111 - accuracy: 0.7996\n",
      "Epoch 439/500\n",
      "528/528 [==============================] - 2s 5ms/step - loss: 0.4974 - accuracy: 0.8028\n",
      "Epoch 440/500\n",
      "528/528 [==============================] - 2s 5ms/step - loss: 0.4958 - accuracy: 0.8045\n",
      "Epoch 441/500\n",
      "528/528 [==============================] - 2s 4ms/step - loss: 0.4960 - accuracy: 0.8066\n",
      "Epoch 442/500\n",
      "528/528 [==============================] - 2s 4ms/step - loss: 0.4970 - accuracy: 0.8073\n",
      "Epoch 443/500\n",
      "528/528 [==============================] - 2s 5ms/step - loss: 0.4961 - accuracy: 0.8039\n",
      "Epoch 444/500\n",
      "528/528 [==============================] - 2s 5ms/step - loss: 0.4871 - accuracy: 0.8038\n",
      "Epoch 445/500\n",
      "528/528 [==============================] - 3s 5ms/step - loss: 0.4920 - accuracy: 0.8085\n",
      "Epoch 446/500\n",
      "528/528 [==============================] - 2s 5ms/step - loss: 0.4956 - accuracy: 0.8030\n",
      "Epoch 447/500\n",
      "528/528 [==============================] - 2s 5ms/step - loss: 0.4900 - accuracy: 0.8039\n",
      "Epoch 448/500\n",
      "528/528 [==============================] - 2s 5ms/step - loss: 0.4885 - accuracy: 0.8096\n",
      "Epoch 449/500\n",
      "528/528 [==============================] - 2s 5ms/step - loss: 0.4910 - accuracy: 0.8063\n",
      "Epoch 450/500\n",
      "528/528 [==============================] - 2s 5ms/step - loss: 0.4867 - accuracy: 0.8107\n",
      "Epoch 451/500\n",
      "528/528 [==============================] - 2s 5ms/step - loss: 0.4996 - accuracy: 0.8023\n",
      "Epoch 452/500\n",
      "528/528 [==============================] - 3s 5ms/step - loss: 0.5021 - accuracy: 0.7988: 0s\n",
      "Epoch 453/500\n",
      "528/528 [==============================] - 2s 4ms/step - loss: 0.5067 - accuracy: 0.7988\n",
      "Epoch 454/500\n",
      "528/528 [==============================] - 2s 4ms/step - loss: 0.5008 - accuracy: 0.8041\n",
      "Epoch 455/500\n",
      "528/528 [==============================] - 2s 4ms/step - loss: 0.4914 - accuracy: 0.8080\n",
      "Epoch 456/500\n",
      "528/528 [==============================] - 2s 4ms/step - loss: 0.4840 - accuracy: 0.8096\n",
      "Epoch 457/500\n",
      "528/528 [==============================] - 3s 5ms/step - loss: 0.5126 - accuracy: 0.7962\n",
      "Epoch 458/500\n",
      "528/528 [==============================] - 3s 5ms/step - loss: 0.4991 - accuracy: 0.8041\n",
      "Epoch 459/500\n",
      "528/528 [==============================] - 3s 5ms/step - loss: 0.4908 - accuracy: 0.8061\n",
      "Epoch 460/500\n",
      "528/528 [==============================] - 3s 5ms/step - loss: 0.5032 - accuracy: 0.8003\n",
      "Epoch 461/500\n",
      "528/528 [==============================] - 3s 5ms/step - loss: 0.4922 - accuracy: 0.8042\n",
      "Epoch 462/500\n",
      "528/528 [==============================] - 2s 5ms/step - loss: 0.4872 - accuracy: 0.8098\n",
      "Epoch 463/500\n",
      "528/528 [==============================] - 3s 5ms/step - loss: 0.4824 - accuracy: 0.8111\n",
      "Epoch 464/500\n",
      "528/528 [==============================] - 3s 5ms/step - loss: 0.4936 - accuracy: 0.8076\n",
      "Epoch 465/500\n",
      "528/528 [==============================] - 3s 5ms/step - loss: 0.4800 - accuracy: 0.8105\n",
      "Epoch 466/500\n",
      "528/528 [==============================] - 2s 5ms/step - loss: 0.4874 - accuracy: 0.8098\n",
      "Epoch 467/500\n",
      "528/528 [==============================] - 3s 5ms/step - loss: 0.5077 - accuracy: 0.8009\n",
      "Epoch 468/500\n",
      "528/528 [==============================] - 3s 5ms/step - loss: 0.5030 - accuracy: 0.8051\n",
      "Epoch 469/500\n"
     ]
    },
    {
     "name": "stdout",
     "output_type": "stream",
     "text": [
      "528/528 [==============================] - 3s 5ms/step - loss: 0.5081 - accuracy: 0.7999\n",
      "Epoch 470/500\n",
      "528/528 [==============================] - ETA: 0s - loss: 0.4885 - accuracy: 0.80 - 3s 5ms/step - loss: 0.4910 - accuracy: 0.8070\n",
      "Epoch 471/500\n",
      "528/528 [==============================] - 2s 5ms/step - loss: 0.5094 - accuracy: 0.7970\n",
      "Epoch 472/500\n",
      "528/528 [==============================] - 2s 4ms/step - loss: 0.4905 - accuracy: 0.8087\n",
      "Epoch 473/500\n",
      "528/528 [==============================] - 2s 4ms/step - loss: 0.4881 - accuracy: 0.8118\n",
      "Epoch 474/500\n",
      "528/528 [==============================] - 2s 4ms/step - loss: 0.4787 - accuracy: 0.8108\n",
      "Epoch 475/500\n",
      "528/528 [==============================] - 2s 5ms/step - loss: 0.4965 - accuracy: 0.8063\n",
      "Epoch 476/500\n",
      "528/528 [==============================] - 2s 5ms/step - loss: 0.4869 - accuracy: 0.8088\n",
      "Epoch 477/500\n",
      "528/528 [==============================] - 3s 5ms/step - loss: 0.4930 - accuracy: 0.8067\n",
      "Epoch 478/500\n",
      "528/528 [==============================] - 2s 5ms/step - loss: 0.4865 - accuracy: 0.8080\n",
      "Epoch 479/500\n",
      "528/528 [==============================] - 2s 4ms/step - loss: 0.4737 - accuracy: 0.8123\n",
      "Epoch 480/500\n",
      "528/528 [==============================] - 2s 4ms/step - loss: 0.4844 - accuracy: 0.8091\n",
      "Epoch 481/500\n",
      "528/528 [==============================] - 2s 5ms/step - loss: 0.4940 - accuracy: 0.8085\n",
      "Epoch 482/500\n",
      "528/528 [==============================] - 2s 5ms/step - loss: 0.4907 - accuracy: 0.8064\n",
      "Epoch 483/500\n",
      "528/528 [==============================] - 3s 5ms/step - loss: 0.4866 - accuracy: 0.8098\n",
      "Epoch 484/500\n",
      "528/528 [==============================] - 2s 5ms/step - loss: 0.5042 - accuracy: 0.7987\n",
      "Epoch 485/500\n",
      "528/528 [==============================] - 2s 4ms/step - loss: 0.4862 - accuracy: 0.8093\n",
      "Epoch 486/500\n",
      "528/528 [==============================] - 2s 5ms/step - loss: 0.4996 - accuracy: 0.8042\n",
      "Epoch 487/500\n",
      "528/528 [==============================] - 2s 4ms/step - loss: 0.4798 - accuracy: 0.8146\n",
      "Epoch 488/500\n",
      "528/528 [==============================] - 2s 4ms/step - loss: 0.4970 - accuracy: 0.8060\n",
      "Epoch 489/500\n",
      "528/528 [==============================] - 3s 5ms/step - loss: 0.4776 - accuracy: 0.8126\n",
      "Epoch 490/500\n",
      "528/528 [==============================] - 3s 5ms/step - loss: 0.4951 - accuracy: 0.8048\n",
      "Epoch 491/500\n",
      "528/528 [==============================] - 2s 5ms/step - loss: 0.4871 - accuracy: 0.8074\n",
      "Epoch 492/500\n",
      "528/528 [==============================] - 2s 4ms/step - loss: 0.4917 - accuracy: 0.8060\n",
      "Epoch 493/500\n",
      "528/528 [==============================] - 2s 4ms/step - loss: 0.4917 - accuracy: 0.8046\n",
      "Epoch 494/500\n",
      "528/528 [==============================] - 2s 4ms/step - loss: 0.4778 - accuracy: 0.8127\n",
      "Epoch 495/500\n",
      "528/528 [==============================] - 2s 5ms/step - loss: 0.4827 - accuracy: 0.8113\n",
      "Epoch 496/500\n",
      "528/528 [==============================] - 2s 5ms/step - loss: 0.4859 - accuracy: 0.8082\n",
      "Epoch 497/500\n",
      "528/528 [==============================] - 3s 5ms/step - loss: 0.4951 - accuracy: 0.8022\n",
      "Epoch 498/500\n",
      "528/528 [==============================] - 2s 4ms/step - loss: 0.4786 - accuracy: 0.8154\n",
      "Epoch 499/500\n",
      "528/528 [==============================] - 2s 5ms/step - loss: 0.4839 - accuracy: 0.8103\n",
      "Epoch 500/500\n",
      "528/528 [==============================] - 2s 4ms/step - loss: 0.4815 - accuracy: 0.8096\n"
     ]
    }
   ],
   "source": [
    "#train the model @ 500 epochs\n",
    "history = model.fit(bf_train_x, y_train, epochs=500, batch_size=32);"
   ]
  },
  {
   "cell_type": "markdown",
   "metadata": {},
   "source": [
    "#### LOSS AND ACCURACY"
   ]
  },
  {
   "cell_type": "code",
   "execution_count": 27,
   "metadata": {},
   "outputs": [
    {
     "data": {
      "image/png": "[encoded data removed]",
      "text/plain": [
       "<Figure size 1008x360 with 2 Axes>"
      ]
     },
     "metadata": {
      "needs_background": "light"
     },
     "output_type": "display_data"
    }
   ],
   "source": [
    "fig, ax = plt.subplots(1,2,figsize=(14,5))\n",
    "ax[0].set_title('TRAINING LOSS');\n",
    "ax[1].set_title('TRAINING ACCURACY');\n",
    "\n",
    "\n",
    "ax[0].plot(history.history['loss'], color= 'salmon',lw=2);\n",
    "ax[1].plot(history.history['accuracy'], color= 'green',lw=2);"
   ]
  },
  {
   "cell_type": "code",
   "execution_count": 101,
   "metadata": {},
   "outputs": [],
   "source": [
    "#predict the validation data\n",
    "predictions = (model.predict(bf_train_val) > 0.5).astype(\"int32\") #model.predict_classes(bf_train_val)"
   ]
  },
  {
   "cell_type": "code",
   "execution_count": 102,
   "metadata": {},
   "outputs": [
    {
     "name": "stdout",
     "output_type": "stream",
     "text": [
      "[[0 1 0 0]\n",
      " [0 0 0 1]\n",
      " [1 0 0 0]\n",
      " ...\n",
      " [0 0 0 1]\n",
      " [0 0 0 1]\n",
      " [1 0 0 0]]\n"
     ]
    }
   ],
   "source": [
    "print(predictions)"
   ]
  },
  {
   "cell_type": "code",
   "execution_count": 103,
   "metadata": {},
   "outputs": [
    {
     "name": "stdout",
     "output_type": "stream",
     "text": [
      "       crack  efflorescence  intact  spalling\n",
      "10118    0.0            1.0     0.0       0.0\n",
      "16528    0.0            0.0     0.0       1.0\n",
      "1552     1.0            0.0     0.0       0.0\n",
      "17662    0.0            0.0     0.0       1.0\n",
      "6744     0.0            1.0     0.0       0.0\n",
      "...      ...            ...     ...       ...\n",
      "5205     0.0            1.0     0.0       0.0\n",
      "10453    0.0            1.0     0.0       0.0\n",
      "21009    0.0            0.0     0.0       1.0\n",
      "16385    0.0            0.0     0.0       1.0\n",
      "21006    0.0            0.0     0.0       1.0\n",
      "\n",
      "[4219 rows x 4 columns]\n"
     ]
    }
   ],
   "source": [
    "print(y_val)"
   ]
  },
  {
   "cell_type": "markdown",
   "metadata": {},
   "source": [
    "#### CLASSIFICATION REPORT"
   ]
  },
  {
   "cell_type": "code",
   "execution_count": 104,
   "metadata": {},
   "outputs": [
    {
     "name": "stdout",
     "output_type": "stream",
     "text": [
      "               precision    recall  f1-score   support\n",
      "\n",
      "        CRACK       0.57      0.92      0.71      1077\n",
      "EFFLORESCENSE       0.90      0.83      0.87      1079\n",
      "       INTACT       0.96      0.47      0.63      1026\n",
      "     SPALLING       0.87      0.61      0.72      1037\n",
      "\n",
      "    micro avg       0.76      0.71      0.74      4219\n",
      "    macro avg       0.83      0.71      0.73      4219\n",
      " weighted avg       0.83      0.71      0.73      4219\n",
      "  samples avg       0.71      0.71      0.71      4219\n",
      "\n"
     ]
    },
    {
     "name": "stderr",
     "output_type": "stream",
     "text": [
      "C:\\Users\\RILLO\\anaconda3\\envs\\tf-gpu\\lib\\site-packages\\sklearn\\metrics\\_classification.py:1327: UndefinedMetricWarning: Precision and F-score are ill-defined and being set to 0.0 in samples with no predicted labels. Use `zero_division` parameter to control this behavior.\n",
      "  _warn_prf(average, modifier, msg_start, len(result))\n"
     ]
    }
   ],
   "source": [
    "target_names=['CRACK', 'EFFLORESCENSE', 'INTACT','SPALLING']\n",
    "print(classification_report(y_val, predictions,target_names=target_names))"
   ]
  },
  {
   "cell_type": "markdown",
   "metadata": {},
   "source": [
    "#### CONFUSION MATRIX"
   ]
  },
  {
   "cell_type": "code",
   "execution_count": 105,
   "metadata": {
    "scrolled": false
   },
   "outputs": [
    {
     "name": "stdout",
     "output_type": "stream",
     "text": [
      "[[1035    1    2   39]\n",
      " [ 131  896   13   39]\n",
      " [ 520   10  482   14]\n",
      " [ 314   84    5  634]]\n",
      "shape of yval is: (4219, 4) and predictions shape is: (4219, 4)\n"
     ]
    },
    {
     "data": {
      "image/png": "[encoded data removed]",
      "text/plain": [
       "<Figure size 720x720 with 2 Axes>"
      ]
     },
     "metadata": {
      "needs_background": "light"
     },
     "output_type": "display_data"
    }
   ],
   "source": [
    "confusion_mat = confusion_matrix(y_val.values.argmax(axis=1), predictions.argmax(axis=1))\n",
    "print(confusion_mat)\n",
    "print(f\"shape of yval is: {y_val.shape} and predictions shape is: {predictions.shape}\")\n",
    "plt.figure(figsize=(10,10))\n",
    "sns.heatmap(confusion_mat, square=True, annot=True,fmt='g',\n",
    "            yticklabels=['CRACK', 'EFFLORESCENSE', 'INTACT','SPALLING'],\n",
    "            xticklabels=['CRACK', 'EFFLORESCENSE', 'INTACT','SPALLING']);\n",
    "plt.title('CONFUSION MATRIX');\n",
    "plt.xlabel('Y_TRUE');\n",
    "plt.ylabel(\"PREDICTIONS\");"
   ]
  },
  {
   "cell_type": "code",
   "execution_count": 127,
   "metadata": {},
   "outputs": [
    {
     "name": "stdout",
     "output_type": "stream",
     "text": [
      "Accuracy is: 71.24911116378289%\n"
     ]
    }
   ],
   "source": [
    "from sklearn.metrics import accuracy_score\n",
    "cnn_acc=accuracy_score(y_val, predictions)\n",
    "print(f\"Accuracy is: {cnn_acc*100}%\")"
   ]
  },
  {
   "cell_type": "code",
   "execution_count": 33,
   "metadata": {},
   "outputs": [],
   "source": [
    "## SAVE MODEL"
   ]
  },
  {
   "cell_type": "code",
   "execution_count": 34,
   "metadata": {},
   "outputs": [
    {
     "name": "stdout",
     "output_type": "stream",
     "text": [
      "model name is: ../output/model/cnn_model_08_11_2022_23_51_48.h5\n"
     ]
    }
   ],
   "source": [
    "saved_model_dir = '../output/model/'\n",
    "model_name = saved_model_dir+f\"cnn_model_{dt.datetime.now().strftime('%m_%d_%Y_%H_%M_%S')}.h5\"\n",
    "print(f\"model name is: {model_name}\")\n",
    "model.save(model_name)"
   ]
  },
  {
   "cell_type": "markdown",
   "metadata": {},
   "source": [
    "<h1> SUPPORT VECTOR MACHINE"
   ]
  },
  {
   "cell_type": "code",
   "execution_count": 58,
   "metadata": {},
   "outputs": [],
   "source": [
    "from sklearn import svm\n",
    "from sklearn.model_selection import GridSearchCV\n",
    "svm_model=svm.SVC(kernel='rbf', gamma=0.5, C=0.1)"
   ]
  },
  {
   "cell_type": "markdown",
   "metadata": {},
   "source": [
    "<h3> CONVERT ONE_HOT ENCODED TO LABEL"
   ]
  },
  {
   "cell_type": "code",
   "execution_count": 80,
   "metadata": {
    "scrolled": true
   },
   "outputs": [
    {
     "name": "stdout",
     "output_type": "stream",
     "text": [
      "[3 3 0 ... 3 3 2]\n"
     ]
    }
   ],
   "source": [
    "y_train_svm=encoder.inverse_transform(y_train)\n",
    "# 0---> crack\n",
    "# 1---> efflorescence  \n",
    "# 2---> intact  \n",
    "# 3---> spalling\n",
    "y_train_svm=y_train_svm.ravel()\n",
    "print(y_train_svm)"
   ]
  },
  {
   "cell_type": "code",
   "execution_count": 81,
   "metadata": {
    "scrolled": true
   },
   "outputs": [],
   "source": [
    "history=svm_model.fit(bf_train_x, y_train_svm)"
   ]
  },
  {
   "cell_type": "code",
   "execution_count": 109,
   "metadata": {},
   "outputs": [],
   "source": [
    "#predict the validation data\n",
    "svm_predictions = svm_model.predict(bf_train_val) "
   ]
  },
  {
   "cell_type": "code",
   "execution_count": 110,
   "metadata": {},
   "outputs": [],
   "source": [
    "def manual_hot_encode(array):\n",
    "    hot_list=[]\n",
    "    for arr in array:\n",
    "        temp=[0,0,0,0]\n",
    "        temp[arr]=1\n",
    "        hot_list.append(temp)\n",
    "    return np.array(hot_list)\n",
    "            "
   ]
  },
  {
   "cell_type": "code",
   "execution_count": 111,
   "metadata": {},
   "outputs": [
    {
     "name": "stdout",
     "output_type": "stream",
     "text": [
      "[1 3 3 ... 2 3 3]\n"
     ]
    },
    {
     "data": {
      "text/plain": [
       "array([[1, 3, 3, ..., 2, 3, 3]], dtype=int64)"
      ]
     },
     "execution_count": 111,
     "metadata": {},
     "output_type": "execute_result"
    },
    {
     "name": "stdout",
     "output_type": "stream",
     "text": [
      "[[0 1 0 0]\n",
      " [0 0 0 1]\n",
      " [0 0 0 1]\n",
      " ...\n",
      " [0 0 1 0]\n",
      " [0 0 0 1]\n",
      " [0 0 0 1]]\n"
     ]
    }
   ],
   "source": [
    "print(svm_predictions)\n",
    "svm_predictions.reshape(1, -1) \n",
    "svm_predictions = manual_hot_encode(svm_predictions)\n",
    "print(svm_predictions)"
   ]
  },
  {
   "cell_type": "code",
   "execution_count": 112,
   "metadata": {},
   "outputs": [
    {
     "name": "stdout",
     "output_type": "stream",
     "text": [
      "       crack  efflorescence  intact  spalling\n",
      "10118    0.0            1.0     0.0       0.0\n",
      "16528    0.0            0.0     0.0       1.0\n",
      "1552     1.0            0.0     0.0       0.0\n",
      "17662    0.0            0.0     0.0       1.0\n",
      "6744     0.0            1.0     0.0       0.0\n",
      "...      ...            ...     ...       ...\n",
      "5205     0.0            1.0     0.0       0.0\n",
      "10453    0.0            1.0     0.0       0.0\n",
      "21009    0.0            0.0     0.0       1.0\n",
      "16385    0.0            0.0     0.0       1.0\n",
      "21006    0.0            0.0     0.0       1.0\n",
      "\n",
      "[4219 rows x 4 columns]\n"
     ]
    }
   ],
   "source": [
    "print(y_val)"
   ]
  },
  {
   "cell_type": "markdown",
   "metadata": {},
   "source": [
    "#### CLASSIFICATION REPORT"
   ]
  },
  {
   "cell_type": "code",
   "execution_count": 113,
   "metadata": {},
   "outputs": [
    {
     "name": "stdout",
     "output_type": "stream",
     "text": [
      "              precision    recall  f1-score   support\n",
      "\n",
      "           0       0.56      0.02      0.04      1077\n",
      "           1       0.74      0.56      0.64      1079\n",
      "           2       0.46      0.83      0.59      1026\n",
      "           3       0.42      0.62      0.50      1037\n",
      "\n",
      "   micro avg       0.50      0.50      0.50      4219\n",
      "   macro avg       0.55      0.51      0.44      4219\n",
      "weighted avg       0.55      0.50      0.44      4219\n",
      " samples avg       0.50      0.50      0.50      4219\n",
      "\n"
     ]
    }
   ],
   "source": [
    "print(classification_report(y_val, svm_predictions))"
   ]
  },
  {
   "cell_type": "markdown",
   "metadata": {},
   "source": [
    "#### CONFUSION MATRIX"
   ]
  },
  {
   "cell_type": "code",
   "execution_count": 114,
   "metadata": {
    "scrolled": false
   },
   "outputs": [
    {
     "name": "stdout",
     "output_type": "stream",
     "text": [
      "[[ 22 127 508 420]\n",
      " [ 10 601 163 305]\n",
      " [  6  10 848 162]\n",
      " [  1  74 319 643]]\n",
      "shape of yval is: (4219, 4) and predictions shape is: (4219, 4)\n"
     ]
    },
    {
     "data": {
      "image/png": "[encoded data removed]",
      "text/plain": [
       "<Figure size 720x720 with 2 Axes>"
      ]
     },
     "metadata": {
      "needs_background": "light"
     },
     "output_type": "display_data"
    }
   ],
   "source": [
    "confusion_mat = confusion_matrix(y_val.values.argmax(axis=1), svm_predictions.argmax(axis=1))\n",
    "print(confusion_mat)\n",
    "print(f\"shape of yval is: {y_val.shape} and predictions shape is: {svm_predictions.shape}\")\n",
    "plt.figure(figsize=(10,10))\n",
    "sns.heatmap(confusion_mat, square=True, annot=True,fmt='g',\n",
    "            yticklabels=['CRACK', 'EFFLORESCENSE', 'INTACT','SPALLING'],\n",
    "            xticklabels=['CRACK', 'EFFLORESCENSE', 'INTACT','SPALLING']);\n",
    "plt.title('CONFUSION MATRIX');\n",
    "plt.xlabel('Y_TRUE');\n",
    "plt.ylabel(\"PREDICTIONS\");"
   ]
  },
  {
   "cell_type": "code",
   "execution_count": 116,
   "metadata": {},
   "outputs": [
    {
     "name": "stdout",
     "output_type": "stream",
     "text": [
      "Accuracy is: 50.106660346053566%\n"
     ]
    }
   ],
   "source": [
    "from sklearn.metrics import accuracy_score\n",
    "svm_acc=accuracy_score(y_val, svm_predictions)\n",
    "print(f\"Accuracy is: {svm_acc*100}%\")"
   ]
  },
  {
   "cell_type": "markdown",
   "metadata": {},
   "source": [
    "<h1> NAIVE BAYES"
   ]
  },
  {
   "cell_type": "code",
   "execution_count": 117,
   "metadata": {},
   "outputs": [],
   "source": [
    "# import Gaussian Naive Bayes model\n",
    "from sklearn.naive_bayes import GaussianNB\n",
    "\n",
    "\n"
   ]
  },
  {
   "cell_type": "code",
   "execution_count": 118,
   "metadata": {},
   "outputs": [],
   "source": [
    "# create a Gaussian Classifier\n",
    "naive_model = GaussianNB()"
   ]
  },
  {
   "cell_type": "code",
   "execution_count": 119,
   "metadata": {},
   "outputs": [],
   "source": [
    "y_train_naive= y_train_svm"
   ]
  },
  {
   "cell_type": "code",
   "execution_count": 120,
   "metadata": {},
   "outputs": [],
   "source": [
    "# training the model\n",
    "history=naive_model.fit(bf_train_x, y_train_naive)"
   ]
  },
  {
   "cell_type": "code",
   "execution_count": 121,
   "metadata": {},
   "outputs": [],
   "source": [
    "#predict the validation data\n",
    "naive_predictions = naive_model.predict(bf_train_val) "
   ]
  },
  {
   "cell_type": "code",
   "execution_count": 122,
   "metadata": {},
   "outputs": [
    {
     "name": "stdout",
     "output_type": "stream",
     "text": [
      "[1 3 3 ... 3 3 3]\n"
     ]
    },
    {
     "data": {
      "text/plain": [
       "array([[1, 3, 3, ..., 3, 3, 3]], dtype=int64)"
      ]
     },
     "execution_count": 122,
     "metadata": {},
     "output_type": "execute_result"
    },
    {
     "name": "stdout",
     "output_type": "stream",
     "text": [
      "[[0 1 0 0]\n",
      " [0 0 0 1]\n",
      " [0 0 0 1]\n",
      " ...\n",
      " [0 0 0 1]\n",
      " [0 0 0 1]\n",
      " [0 0 0 1]]\n"
     ]
    }
   ],
   "source": [
    "print(naive_predictions)\n",
    "naive_predictions.reshape(1, -1) \n",
    "naive_predictions = manual_hot_encode(naive_predictions)\n",
    "print(naive_predictions)"
   ]
  },
  {
   "cell_type": "code",
   "execution_count": 123,
   "metadata": {},
   "outputs": [
    {
     "name": "stdout",
     "output_type": "stream",
     "text": [
      "       crack  efflorescence  intact  spalling\n",
      "10118    0.0            1.0     0.0       0.0\n",
      "16528    0.0            0.0     0.0       1.0\n",
      "1552     1.0            0.0     0.0       0.0\n",
      "17662    0.0            0.0     0.0       1.0\n",
      "6744     0.0            1.0     0.0       0.0\n",
      "...      ...            ...     ...       ...\n",
      "5205     0.0            1.0     0.0       0.0\n",
      "10453    0.0            1.0     0.0       0.0\n",
      "21009    0.0            0.0     0.0       1.0\n",
      "16385    0.0            0.0     0.0       1.0\n",
      "21006    0.0            0.0     0.0       1.0\n",
      "\n",
      "[4219 rows x 4 columns]\n"
     ]
    }
   ],
   "source": [
    "print(y_val)"
   ]
  },
  {
   "cell_type": "code",
   "execution_count": 124,
   "metadata": {},
   "outputs": [
    {
     "name": "stdout",
     "output_type": "stream",
     "text": [
      "              precision    recall  f1-score   support\n",
      "\n",
      "           0       0.46      0.22      0.30      1077\n",
      "           1       0.78      0.42      0.55      1079\n",
      "           2       0.80      0.23      0.36      1026\n",
      "           3       0.35      0.94      0.51      1037\n",
      "\n",
      "   micro avg       0.45      0.45      0.45      4219\n",
      "   macro avg       0.60      0.45      0.43      4219\n",
      "weighted avg       0.60      0.45      0.43      4219\n",
      " samples avg       0.45      0.45      0.45      4219\n",
      "\n"
     ]
    }
   ],
   "source": [
    "print(classification_report(y_val, naive_predictions))"
   ]
  },
  {
   "cell_type": "code",
   "execution_count": 125,
   "metadata": {},
   "outputs": [
    {
     "name": "stdout",
     "output_type": "stream",
     "text": [
      "[[238  91  41 707]\n",
      " [158 455  16 450]\n",
      " [ 94   9 238 685]\n",
      " [ 32  27   3 975]]\n",
      "shape of yval is: (4219, 4) and predictions shape is: (4219, 4)\n"
     ]
    },
    {
     "data": {
      "image/png": "[encoded data removed]",
      "text/plain": [
       "<Figure size 720x720 with 2 Axes>"
      ]
     },
     "metadata": {
      "needs_background": "light"
     },
     "output_type": "display_data"
    }
   ],
   "source": [
    "confusion_mat = confusion_matrix(y_val.values.argmax(axis=1), naive_predictions.argmax(axis=1))\n",
    "print(confusion_mat)\n",
    "print(f\"shape of yval is: {y_val.shape} and predictions shape is: {naive_predictions.shape}\")\n",
    "plt.figure(figsize=(10,10))\n",
    "sns.heatmap(confusion_mat, square=True, annot=True,fmt='g',\n",
    "            yticklabels=['CRACK', 'EFFLORESCENSE', 'INTACT','SPALLING'],\n",
    "            xticklabels=['CRACK', 'EFFLORESCENSE', 'INTACT','SPALLING']);\n",
    "plt.title('CONFUSION MATRIX');\n",
    "plt.xlabel('Y_TRUE');\n",
    "plt.ylabel(\"PREDICTIONS\");"
   ]
  },
  {
   "cell_type": "code",
   "execution_count": 126,
   "metadata": {},
   "outputs": [
    {
     "name": "stdout",
     "output_type": "stream",
     "text": [
      "Accuracy is: 45.176582128466464%\n"
     ]
    }
   ],
   "source": [
    "from sklearn.metrics import accuracy_score\n",
    "naive_acc=accuracy_score(y_val, naive_predictions)\n",
    "print(f\"Accuracy is: {naive_acc*100}%\")"
   ]
  },
  {
   "cell_type": "markdown",
   "metadata": {},
   "source": [
    "<h1> COMPARE RESULT"
   ]
  },
  {
   "cell_type": "code",
   "execution_count": 134,
   "metadata": {},
   "outputs": [],
   "source": [
    "def plot_accuracies(accuracies):\n",
    "    plt_val=[]\n",
    "    plt_key=[]\n",
    "    for model,accuracy in accuracies.items():\n",
    "        print('{0} -> {1}'.format(model, accuracy))\n",
    "        accuracy=round(accuracy,4)\n",
    "        plt_val.append(accuracy*100)\n",
    "        plt_key.append(model)\n",
    "    fig = plt.figure(figsize = (10, 5))\n",
    "    # creating the bar plot\n",
    "    colors= list('rgbkymc')\n",
    "    plt.bar(plt_key, plt_val, color =colors,\n",
    "            width = 0.4)\n",
    "    plt.ylabel(\"Accuracy Values\")\n",
    "    plt.xlabel(\"Model Type\")\n",
    "    plt.title(\"Accuracy per Model\")\n",
    "    for index, value in enumerate(plt_val):\n",
    "        plt.text(index, value,\n",
    "                 str(value), fontweight = 'bold')\n",
    "    plt.show()"
   ]
  },
  {
   "cell_type": "code",
   "execution_count": 135,
   "metadata": {},
   "outputs": [
    {
     "name": "stdout",
     "output_type": "stream",
     "text": [
      "CNN -> 0.7124911116378289\n",
      "SVM -> 0.5010666034605357\n",
      "NAIVE_BAYE -> 0.45176582128466464\n"
     ]
    },
    {
     "data": {
      "image/png": "[encoded data removed]",
      "text/plain": [
       "<Figure size 720x360 with 1 Axes>"
      ]
     },
     "metadata": {
      "needs_background": "light"
     },
     "output_type": "display_data"
    }
   ],
   "source": [
    "accuracies={\"CNN\":cnn_acc,\"SVM\":svm_acc,\"NAIVE_BAYE\":naive_acc}\n",
    "plot_accuracies(accuracies)"
   ]
  },
  {
   "cell_type": "code",
   "execution_count": null,
   "metadata": {},
   "outputs": [],
   "source": []
  }
 ],
 "metadata": {
  "kernelspec": {
   "display_name": "Python 3 (ipykernel)",
   "language": "python",
   "name": "python3"
  },
  "language_info": {
   "codemirror_mode": {
    "name": "ipython",
    "version": 3
   },
   "file_extension": ".py",
   "mimetype": "text/x-python",
   "name": "python",
   "nbconvert_exporter": "python",
   "pygments_lexer": "ipython3",
   "version": "3.9.12"
  },
  "vscode": {
   "interpreter": {
    "hash": "1fa295a0e9ec844efa33782261591521465921acfa742212f347dd0c79d41283"
   }
  }
 },
 "nbformat": 4,
 "nbformat_minor": 4
}
